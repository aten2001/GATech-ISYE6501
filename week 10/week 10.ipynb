{
 "cells": [
  {
   "cell_type": "code",
   "execution_count": 1,
   "metadata": {},
   "outputs": [],
   "source": [
    "url <- \"http://archive.ics.uci.edu/ml/machine-learning-databases/breast-cancer-wisconsin/breast-cancer-wisconsin.data\"\n",
    "data <- read.table(url, stringsAsFactors = FALSE, header = FALSE, sep = \",\")"
   ]
  },
  {
   "cell_type": "code",
   "execution_count": 2,
   "metadata": {},
   "outputs": [
    {
     "data": {
      "text/html": [
       "<table>\n",
       "<thead><tr><th scope=col>V1</th><th scope=col>V2</th><th scope=col>V3</th><th scope=col>V4</th><th scope=col>V5</th><th scope=col>V6</th><th scope=col>V7</th><th scope=col>V8</th><th scope=col>V9</th><th scope=col>V10</th><th scope=col>V11</th></tr></thead>\n",
       "<tbody>\n",
       "\t<tr><td>1000025</td><td>5      </td><td> 1     </td><td> 1     </td><td>1      </td><td>2      </td><td>1      </td><td>3      </td><td>1      </td><td>1      </td><td>2      </td></tr>\n",
       "\t<tr><td>1002945</td><td>5      </td><td> 4     </td><td> 4     </td><td>5      </td><td>7      </td><td>10     </td><td>3      </td><td>2      </td><td>1      </td><td>2      </td></tr>\n",
       "\t<tr><td>1015425</td><td>3      </td><td> 1     </td><td> 1     </td><td>1      </td><td>2      </td><td>2      </td><td>3      </td><td>1      </td><td>1      </td><td>2      </td></tr>\n",
       "\t<tr><td>1016277</td><td>6      </td><td> 8     </td><td> 8     </td><td>1      </td><td>3      </td><td>4      </td><td>3      </td><td>7      </td><td>1      </td><td>2      </td></tr>\n",
       "\t<tr><td>1017023</td><td>4      </td><td> 1     </td><td> 1     </td><td>3      </td><td>2      </td><td>1      </td><td>3      </td><td>1      </td><td>1      </td><td>2      </td></tr>\n",
       "\t<tr><td>1017122</td><td>8      </td><td>10     </td><td>10     </td><td>8      </td><td>7      </td><td>10     </td><td>9      </td><td>7      </td><td>1      </td><td>4      </td></tr>\n",
       "</tbody>\n",
       "</table>\n"
      ],
      "text/latex": [
       "\\begin{tabular}{r|lllllllllll}\n",
       " V1 & V2 & V3 & V4 & V5 & V6 & V7 & V8 & V9 & V10 & V11\\\\\n",
       "\\hline\n",
       "\t 1000025 & 5       &  1      &  1      & 1       & 2       & 1       & 3       & 1       & 1       & 2      \\\\\n",
       "\t 1002945 & 5       &  4      &  4      & 5       & 7       & 10      & 3       & 2       & 1       & 2      \\\\\n",
       "\t 1015425 & 3       &  1      &  1      & 1       & 2       & 2       & 3       & 1       & 1       & 2      \\\\\n",
       "\t 1016277 & 6       &  8      &  8      & 1       & 3       & 4       & 3       & 7       & 1       & 2      \\\\\n",
       "\t 1017023 & 4       &  1      &  1      & 3       & 2       & 1       & 3       & 1       & 1       & 2      \\\\\n",
       "\t 1017122 & 8       & 10      & 10      & 8       & 7       & 10      & 9       & 7       & 1       & 4      \\\\\n",
       "\\end{tabular}\n"
      ],
      "text/markdown": [
       "\n",
       "V1 | V2 | V3 | V4 | V5 | V6 | V7 | V8 | V9 | V10 | V11 | \n",
       "|---|---|---|---|---|---|\n",
       "| 1000025 | 5       |  1      |  1      | 1       | 2       | 1       | 3       | 1       | 1       | 2       | \n",
       "| 1002945 | 5       |  4      |  4      | 5       | 7       | 10      | 3       | 2       | 1       | 2       | \n",
       "| 1015425 | 3       |  1      |  1      | 1       | 2       | 2       | 3       | 1       | 1       | 2       | \n",
       "| 1016277 | 6       |  8      |  8      | 1       | 3       | 4       | 3       | 7       | 1       | 2       | \n",
       "| 1017023 | 4       |  1      |  1      | 3       | 2       | 1       | 3       | 1       | 1       | 2       | \n",
       "| 1017122 | 8       | 10      | 10      | 8       | 7       | 10      | 9       | 7       | 1       | 4       | \n",
       "\n",
       "\n"
      ],
      "text/plain": [
       "  V1      V2 V3 V4 V5 V6 V7 V8 V9 V10 V11\n",
       "1 1000025 5   1  1 1  2  1  3  1  1   2  \n",
       "2 1002945 5   4  4 5  7  10 3  2  1   2  \n",
       "3 1015425 3   1  1 1  2  2  3  1  1   2  \n",
       "4 1016277 6   8  8 1  3  4  3  7  1   2  \n",
       "5 1017023 4   1  1 3  2  1  3  1  1   2  \n",
       "6 1017122 8  10 10 8  7  10 9  7  1   4  "
      ]
     },
     "metadata": {},
     "output_type": "display_data"
    }
   ],
   "source": [
    "head(data)"
   ]
  },
  {
   "cell_type": "code",
   "execution_count": 3,
   "metadata": {},
   "outputs": [
    {
     "data": {
      "text/html": [
       "<dl class=dl-horizontal>\n",
       "\t<dt>V1</dt>\n",
       "\t\t<dd>0</dd>\n",
       "\t<dt>V2</dt>\n",
       "\t\t<dd>0</dd>\n",
       "\t<dt>V3</dt>\n",
       "\t\t<dd>0</dd>\n",
       "\t<dt>V4</dt>\n",
       "\t\t<dd>0</dd>\n",
       "\t<dt>V5</dt>\n",
       "\t\t<dd>0</dd>\n",
       "\t<dt>V6</dt>\n",
       "\t\t<dd>0</dd>\n",
       "\t<dt>V7</dt>\n",
       "\t\t<dd>16</dd>\n",
       "\t<dt>V8</dt>\n",
       "\t\t<dd>0</dd>\n",
       "\t<dt>V9</dt>\n",
       "\t\t<dd>0</dd>\n",
       "\t<dt>V10</dt>\n",
       "\t\t<dd>0</dd>\n",
       "\t<dt>V11</dt>\n",
       "\t\t<dd>0</dd>\n",
       "</dl>\n"
      ],
      "text/latex": [
       "\\begin{description*}\n",
       "\\item[V1] 0\n",
       "\\item[V2] 0\n",
       "\\item[V3] 0\n",
       "\\item[V4] 0\n",
       "\\item[V5] 0\n",
       "\\item[V6] 0\n",
       "\\item[V7] 16\n",
       "\\item[V8] 0\n",
       "\\item[V9] 0\n",
       "\\item[V10] 0\n",
       "\\item[V11] 0\n",
       "\\end{description*}\n"
      ],
      "text/markdown": [
       "V1\n",
       ":   0V2\n",
       ":   0V3\n",
       ":   0V4\n",
       ":   0V5\n",
       ":   0V6\n",
       ":   0V7\n",
       ":   16V8\n",
       ":   0V9\n",
       ":   0V10\n",
       ":   0V11\n",
       ":   0\n",
       "\n"
      ],
      "text/plain": [
       " V1  V2  V3  V4  V5  V6  V7  V8  V9 V10 V11 \n",
       "  0   0   0   0   0   0  16   0   0   0   0 "
      ]
     },
     "metadata": {},
     "output_type": "display_data"
    }
   ],
   "source": [
    "### checking the value of missing values in each column. Missing values are represented by '?'\n",
    "colSums(data == '?')"
   ]
  },
  {
   "cell_type": "code",
   "execution_count": 4,
   "metadata": {},
   "outputs": [
    {
     "data": {
      "text/html": [
       "<table>\n",
       "<thead><tr><th></th><th scope=col>V1</th><th scope=col>V2</th><th scope=col>V3</th><th scope=col>V4</th><th scope=col>V5</th><th scope=col>V6</th><th scope=col>V7</th><th scope=col>V8</th><th scope=col>V9</th><th scope=col>V10</th><th scope=col>V11</th></tr></thead>\n",
       "<tbody>\n",
       "\t<tr><th scope=row>24</th><td>1057013</td><td>8      </td><td>4      </td><td>5      </td><td>1      </td><td>2      </td><td>?      </td><td>7      </td><td> 3     </td><td>1      </td><td>4      </td></tr>\n",
       "\t<tr><th scope=row>41</th><td>1096800</td><td>6      </td><td>6      </td><td>6      </td><td>9      </td><td>6      </td><td>?      </td><td>7      </td><td> 8     </td><td>1      </td><td>2      </td></tr>\n",
       "\t<tr><th scope=row>140</th><td>1183246</td><td>1      </td><td>1      </td><td>1      </td><td>1      </td><td>1      </td><td>?      </td><td>2      </td><td> 1     </td><td>1      </td><td>2      </td></tr>\n",
       "\t<tr><th scope=row>146</th><td>1184840</td><td>1      </td><td>1      </td><td>3      </td><td>1      </td><td>2      </td><td>?      </td><td>2      </td><td> 1     </td><td>1      </td><td>2      </td></tr>\n",
       "\t<tr><th scope=row>159</th><td>1193683</td><td>1      </td><td>1      </td><td>2      </td><td>1      </td><td>3      </td><td>?      </td><td>1      </td><td> 1     </td><td>1      </td><td>2      </td></tr>\n",
       "\t<tr><th scope=row>165</th><td>1197510</td><td>5      </td><td>1      </td><td>1      </td><td>1      </td><td>2      </td><td>?      </td><td>3      </td><td> 1     </td><td>1      </td><td>2      </td></tr>\n",
       "\t<tr><th scope=row>236</th><td>1241232</td><td>3      </td><td>1      </td><td>4      </td><td>1      </td><td>2      </td><td>?      </td><td>3      </td><td> 1     </td><td>1      </td><td>2      </td></tr>\n",
       "\t<tr><th scope=row>250</th><td> 169356</td><td>3      </td><td>1      </td><td>1      </td><td>1      </td><td>2      </td><td>?      </td><td>3      </td><td> 1     </td><td>1      </td><td>2      </td></tr>\n",
       "\t<tr><th scope=row>276</th><td> 432809</td><td>3      </td><td>1      </td><td>3      </td><td>1      </td><td>2      </td><td>?      </td><td>2      </td><td> 1     </td><td>1      </td><td>2      </td></tr>\n",
       "\t<tr><th scope=row>293</th><td> 563649</td><td>8      </td><td>8      </td><td>8      </td><td>1      </td><td>2      </td><td>?      </td><td>6      </td><td>10     </td><td>1      </td><td>4      </td></tr>\n",
       "\t<tr><th scope=row>295</th><td> 606140</td><td>1      </td><td>1      </td><td>1      </td><td>1      </td><td>2      </td><td>?      </td><td>2      </td><td> 1     </td><td>1      </td><td>2      </td></tr>\n",
       "\t<tr><th scope=row>298</th><td>  61634</td><td>5      </td><td>4      </td><td>3      </td><td>1      </td><td>2      </td><td>?      </td><td>2      </td><td> 3     </td><td>1      </td><td>2      </td></tr>\n",
       "\t<tr><th scope=row>316</th><td> 704168</td><td>4      </td><td>6      </td><td>5      </td><td>6      </td><td>7      </td><td>?      </td><td>4      </td><td> 9     </td><td>1      </td><td>2      </td></tr>\n",
       "\t<tr><th scope=row>322</th><td> 733639</td><td>3      </td><td>1      </td><td>1      </td><td>1      </td><td>2      </td><td>?      </td><td>3      </td><td> 1     </td><td>1      </td><td>2      </td></tr>\n",
       "\t<tr><th scope=row>412</th><td>1238464</td><td>1      </td><td>1      </td><td>1      </td><td>1      </td><td>1      </td><td>?      </td><td>2      </td><td> 1     </td><td>1      </td><td>2      </td></tr>\n",
       "\t<tr><th scope=row>618</th><td>1057067</td><td>1      </td><td>1      </td><td>1      </td><td>1      </td><td>1      </td><td>?      </td><td>1      </td><td> 1     </td><td>1      </td><td>2      </td></tr>\n",
       "</tbody>\n",
       "</table>\n"
      ],
      "text/latex": [
       "\\begin{tabular}{r|lllllllllll}\n",
       "  & V1 & V2 & V3 & V4 & V5 & V6 & V7 & V8 & V9 & V10 & V11\\\\\n",
       "\\hline\n",
       "\t24 & 1057013 & 8       & 4       & 5       & 1       & 2       & ?       & 7       &  3      & 1       & 4      \\\\\n",
       "\t41 & 1096800 & 6       & 6       & 6       & 9       & 6       & ?       & 7       &  8      & 1       & 2      \\\\\n",
       "\t140 & 1183246 & 1       & 1       & 1       & 1       & 1       & ?       & 2       &  1      & 1       & 2      \\\\\n",
       "\t146 & 1184840 & 1       & 1       & 3       & 1       & 2       & ?       & 2       &  1      & 1       & 2      \\\\\n",
       "\t159 & 1193683 & 1       & 1       & 2       & 1       & 3       & ?       & 1       &  1      & 1       & 2      \\\\\n",
       "\t165 & 1197510 & 5       & 1       & 1       & 1       & 2       & ?       & 3       &  1      & 1       & 2      \\\\\n",
       "\t236 & 1241232 & 3       & 1       & 4       & 1       & 2       & ?       & 3       &  1      & 1       & 2      \\\\\n",
       "\t250 &  169356 & 3       & 1       & 1       & 1       & 2       & ?       & 3       &  1      & 1       & 2      \\\\\n",
       "\t276 &  432809 & 3       & 1       & 3       & 1       & 2       & ?       & 2       &  1      & 1       & 2      \\\\\n",
       "\t293 &  563649 & 8       & 8       & 8       & 1       & 2       & ?       & 6       & 10      & 1       & 4      \\\\\n",
       "\t295 &  606140 & 1       & 1       & 1       & 1       & 2       & ?       & 2       &  1      & 1       & 2      \\\\\n",
       "\t298 &   61634 & 5       & 4       & 3       & 1       & 2       & ?       & 2       &  3      & 1       & 2      \\\\\n",
       "\t316 &  704168 & 4       & 6       & 5       & 6       & 7       & ?       & 4       &  9      & 1       & 2      \\\\\n",
       "\t322 &  733639 & 3       & 1       & 1       & 1       & 2       & ?       & 3       &  1      & 1       & 2      \\\\\n",
       "\t412 & 1238464 & 1       & 1       & 1       & 1       & 1       & ?       & 2       &  1      & 1       & 2      \\\\\n",
       "\t618 & 1057067 & 1       & 1       & 1       & 1       & 1       & ?       & 1       &  1      & 1       & 2      \\\\\n",
       "\\end{tabular}\n"
      ],
      "text/markdown": [
       "\n",
       "| <!--/--> | V1 | V2 | V3 | V4 | V5 | V6 | V7 | V8 | V9 | V10 | V11 | \n",
       "|---|---|---|---|---|---|---|---|---|---|---|---|---|---|---|---|\n",
       "| 24 | 1057013 | 8       | 4       | 5       | 1       | 2       | ?       | 7       |  3      | 1       | 4       | \n",
       "| 41 | 1096800 | 6       | 6       | 6       | 9       | 6       | ?       | 7       |  8      | 1       | 2       | \n",
       "| 140 | 1183246 | 1       | 1       | 1       | 1       | 1       | ?       | 2       |  1      | 1       | 2       | \n",
       "| 146 | 1184840 | 1       | 1       | 3       | 1       | 2       | ?       | 2       |  1      | 1       | 2       | \n",
       "| 159 | 1193683 | 1       | 1       | 2       | 1       | 3       | ?       | 1       |  1      | 1       | 2       | \n",
       "| 165 | 1197510 | 5       | 1       | 1       | 1       | 2       | ?       | 3       |  1      | 1       | 2       | \n",
       "| 236 | 1241232 | 3       | 1       | 4       | 1       | 2       | ?       | 3       |  1      | 1       | 2       | \n",
       "| 250 |  169356 | 3       | 1       | 1       | 1       | 2       | ?       | 3       |  1      | 1       | 2       | \n",
       "| 276 |  432809 | 3       | 1       | 3       | 1       | 2       | ?       | 2       |  1      | 1       | 2       | \n",
       "| 293 |  563649 | 8       | 8       | 8       | 1       | 2       | ?       | 6       | 10      | 1       | 4       | \n",
       "| 295 |  606140 | 1       | 1       | 1       | 1       | 2       | ?       | 2       |  1      | 1       | 2       | \n",
       "| 298 |   61634 | 5       | 4       | 3       | 1       | 2       | ?       | 2       |  3      | 1       | 2       | \n",
       "| 316 |  704168 | 4       | 6       | 5       | 6       | 7       | ?       | 4       |  9      | 1       | 2       | \n",
       "| 322 |  733639 | 3       | 1       | 1       | 1       | 2       | ?       | 3       |  1      | 1       | 2       | \n",
       "| 412 | 1238464 | 1       | 1       | 1       | 1       | 1       | ?       | 2       |  1      | 1       | 2       | \n",
       "| 618 | 1057067 | 1       | 1       | 1       | 1       | 1       | ?       | 1       |  1      | 1       | 2       | \n",
       "\n",
       "\n"
      ],
      "text/plain": [
       "    V1      V2 V3 V4 V5 V6 V7 V8 V9 V10 V11\n",
       "24  1057013 8  4  5  1  2  ?  7   3 1   4  \n",
       "41  1096800 6  6  6  9  6  ?  7   8 1   2  \n",
       "140 1183246 1  1  1  1  1  ?  2   1 1   2  \n",
       "146 1184840 1  1  3  1  2  ?  2   1 1   2  \n",
       "159 1193683 1  1  2  1  3  ?  1   1 1   2  \n",
       "165 1197510 5  1  1  1  2  ?  3   1 1   2  \n",
       "236 1241232 3  1  4  1  2  ?  3   1 1   2  \n",
       "250  169356 3  1  1  1  2  ?  3   1 1   2  \n",
       "276  432809 3  1  3  1  2  ?  2   1 1   2  \n",
       "293  563649 8  8  8  1  2  ?  6  10 1   4  \n",
       "295  606140 1  1  1  1  2  ?  2   1 1   2  \n",
       "298   61634 5  4  3  1  2  ?  2   3 1   2  \n",
       "316  704168 4  6  5  6  7  ?  4   9 1   2  \n",
       "322  733639 3  1  1  1  2  ?  3   1 1   2  \n",
       "412 1238464 1  1  1  1  1  ?  2   1 1   2  \n",
       "618 1057067 1  1  1  1  1  ?  1   1 1   2  "
      ]
     },
     "metadata": {},
     "output_type": "display_data"
    }
   ],
   "source": [
    "data[data$V7=='?',]"
   ]
  },
  {
   "cell_type": "code",
   "execution_count": 5,
   "metadata": {},
   "outputs": [
    {
     "data": {
      "text/html": [
       "2.28898426323319"
      ],
      "text/latex": [
       "2.28898426323319"
      ],
      "text/markdown": [
       "2.28898426323319"
      ],
      "text/plain": [
       "[1] 2.288984"
      ]
     },
     "metadata": {},
     "output_type": "display_data"
    }
   ],
   "source": [
    "num_missing = 100*nrow(data[data$V7=='?',])/nrow(data)\n",
    "num_missing"
   ]
  },
  {
   "cell_type": "markdown",
   "metadata": {},
   "source": [
    "It can be seen there are missing values only in V7. We have 16 missing values which is less than 5%. There doesn't seem to be any bias. "
   ]
  },
  {
   "cell_type": "code",
   "execution_count": 6,
   "metadata": {},
   "outputs": [],
   "source": [
    "mode_function <- function(x) {\n",
    "  ux <- unique(x)\n",
    "  ux[which.max(tabulate(match(x, ux)))]\n",
    "}"
   ]
  },
  {
   "cell_type": "code",
   "execution_count": 7,
   "metadata": {},
   "outputs": [],
   "source": [
    "### getting the indices for missing data\n",
    "\n",
    "missing_indices <- which(data$V7 == '?', arr.ind = T) "
   ]
  },
  {
   "cell_type": "code",
   "execution_count": 8,
   "metadata": {},
   "outputs": [
    {
     "data": {
      "text/html": [
       "1"
      ],
      "text/latex": [
       "1"
      ],
      "text/markdown": [
       "1"
      ],
      "text/plain": [
       "[1] 1"
      ]
     },
     "metadata": {},
     "output_type": "display_data"
    }
   ],
   "source": [
    "### finding the mode for column V7 using data that is not missing\n",
    "\n",
    "mode_V7 <- as.numeric(mode_function(data[-missing_indices,'V7']))\n",
    "mode_V7"
   ]
  },
  {
   "cell_type": "code",
   "execution_count": 9,
   "metadata": {},
   "outputs": [],
   "source": [
    "###imputation using mode\n",
    "\n",
    "data_impute_mode <- data\n",
    "data_impute_mode[missing_indices, 'V7'] <- mode_V7"
   ]
  },
  {
   "cell_type": "code",
   "execution_count": 10,
   "metadata": {},
   "outputs": [
    {
     "data": {
      "text/html": [
       "<dl class=dl-horizontal>\n",
       "\t<dt>V1</dt>\n",
       "\t\t<dd>0</dd>\n",
       "\t<dt>V2</dt>\n",
       "\t\t<dd>0</dd>\n",
       "\t<dt>V3</dt>\n",
       "\t\t<dd>0</dd>\n",
       "\t<dt>V4</dt>\n",
       "\t\t<dd>0</dd>\n",
       "\t<dt>V5</dt>\n",
       "\t\t<dd>0</dd>\n",
       "\t<dt>V6</dt>\n",
       "\t\t<dd>0</dd>\n",
       "\t<dt>V7</dt>\n",
       "\t\t<dd>0</dd>\n",
       "\t<dt>V8</dt>\n",
       "\t\t<dd>0</dd>\n",
       "\t<dt>V9</dt>\n",
       "\t\t<dd>0</dd>\n",
       "\t<dt>V10</dt>\n",
       "\t\t<dd>0</dd>\n",
       "\t<dt>V11</dt>\n",
       "\t\t<dd>0</dd>\n",
       "</dl>\n"
      ],
      "text/latex": [
       "\\begin{description*}\n",
       "\\item[V1] 0\n",
       "\\item[V2] 0\n",
       "\\item[V3] 0\n",
       "\\item[V4] 0\n",
       "\\item[V5] 0\n",
       "\\item[V6] 0\n",
       "\\item[V7] 0\n",
       "\\item[V8] 0\n",
       "\\item[V9] 0\n",
       "\\item[V10] 0\n",
       "\\item[V11] 0\n",
       "\\end{description*}\n"
      ],
      "text/markdown": [
       "V1\n",
       ":   0V2\n",
       ":   0V3\n",
       ":   0V4\n",
       ":   0V5\n",
       ":   0V6\n",
       ":   0V7\n",
       ":   0V8\n",
       ":   0V9\n",
       ":   0V10\n",
       ":   0V11\n",
       ":   0\n",
       "\n"
      ],
      "text/plain": [
       " V1  V2  V3  V4  V5  V6  V7  V8  V9 V10 V11 \n",
       "  0   0   0   0   0   0   0   0   0   0   0 "
      ]
     },
     "metadata": {},
     "output_type": "display_data"
    }
   ],
   "source": [
    "### no missing values after mode imputation\n",
    "\n",
    "colSums(data_impute_mode == '?')"
   ]
  },
  {
   "cell_type": "code",
   "execution_count": 11,
   "metadata": {},
   "outputs": [
    {
     "data": {
      "text/html": [
       "3.54465592972182"
      ],
      "text/latex": [
       "3.54465592972182"
      ],
      "text/markdown": [
       "3.54465592972182"
      ],
      "text/plain": [
       "[1] 3.544656"
      ]
     },
     "metadata": {},
     "output_type": "display_data"
    }
   ],
   "source": [
    "### finding the mean of column V7 using data that is not missing\n",
    "\n",
    "mean_V7 <- mean(as.integer(data[-missing_indices, 'V7']))\n",
    "mean_V7"
   ]
  },
  {
   "cell_type": "code",
   "execution_count": 12,
   "metadata": {},
   "outputs": [],
   "source": [
    "#### imputation using mean value\n",
    "\n",
    "data_impute_mean <- data\n",
    "data_impute_mean[missing_indices, 'V7'] <- as.integer(mean_V7)"
   ]
  },
  {
   "cell_type": "code",
   "execution_count": 13,
   "metadata": {},
   "outputs": [
    {
     "data": {
      "text/html": [
       "<dl class=dl-horizontal>\n",
       "\t<dt>V1</dt>\n",
       "\t\t<dd>0</dd>\n",
       "\t<dt>V2</dt>\n",
       "\t\t<dd>0</dd>\n",
       "\t<dt>V3</dt>\n",
       "\t\t<dd>0</dd>\n",
       "\t<dt>V4</dt>\n",
       "\t\t<dd>0</dd>\n",
       "\t<dt>V5</dt>\n",
       "\t\t<dd>0</dd>\n",
       "\t<dt>V6</dt>\n",
       "\t\t<dd>0</dd>\n",
       "\t<dt>V7</dt>\n",
       "\t\t<dd>0</dd>\n",
       "\t<dt>V8</dt>\n",
       "\t\t<dd>0</dd>\n",
       "\t<dt>V9</dt>\n",
       "\t\t<dd>0</dd>\n",
       "\t<dt>V10</dt>\n",
       "\t\t<dd>0</dd>\n",
       "\t<dt>V11</dt>\n",
       "\t\t<dd>0</dd>\n",
       "</dl>\n"
      ],
      "text/latex": [
       "\\begin{description*}\n",
       "\\item[V1] 0\n",
       "\\item[V2] 0\n",
       "\\item[V3] 0\n",
       "\\item[V4] 0\n",
       "\\item[V5] 0\n",
       "\\item[V6] 0\n",
       "\\item[V7] 0\n",
       "\\item[V8] 0\n",
       "\\item[V9] 0\n",
       "\\item[V10] 0\n",
       "\\item[V11] 0\n",
       "\\end{description*}\n"
      ],
      "text/markdown": [
       "V1\n",
       ":   0V2\n",
       ":   0V3\n",
       ":   0V4\n",
       ":   0V5\n",
       ":   0V6\n",
       ":   0V7\n",
       ":   0V8\n",
       ":   0V9\n",
       ":   0V10\n",
       ":   0V11\n",
       ":   0\n",
       "\n"
      ],
      "text/plain": [
       " V1  V2  V3  V4  V5  V6  V7  V8  V9 V10 V11 \n",
       "  0   0   0   0   0   0   0   0   0   0   0 "
      ]
     },
     "metadata": {},
     "output_type": "display_data"
    }
   ],
   "source": [
    "colSums(data_impute_mean == '?')"
   ]
  },
  {
   "cell_type": "code",
   "execution_count": 14,
   "metadata": {},
   "outputs": [],
   "source": [
    "#### imputation using regression\n",
    "\n",
    "\n",
    "data_regress <- data[-missing_indices, 2:10]"
   ]
  },
  {
   "cell_type": "code",
   "execution_count": 15,
   "metadata": {},
   "outputs": [
    {
     "data": {
      "text/html": [
       "<table>\n",
       "<thead><tr><th scope=col>V2</th><th scope=col>V3</th><th scope=col>V4</th><th scope=col>V5</th><th scope=col>V6</th><th scope=col>V7</th><th scope=col>V8</th><th scope=col>V9</th><th scope=col>V10</th></tr></thead>\n",
       "<tbody>\n",
       "\t<tr><td>5 </td><td> 1</td><td> 1</td><td>1 </td><td>2 </td><td>1 </td><td>3 </td><td>1 </td><td>1 </td></tr>\n",
       "\t<tr><td>5 </td><td> 4</td><td> 4</td><td>5 </td><td>7 </td><td>10</td><td>3 </td><td>2 </td><td>1 </td></tr>\n",
       "\t<tr><td>3 </td><td> 1</td><td> 1</td><td>1 </td><td>2 </td><td>2 </td><td>3 </td><td>1 </td><td>1 </td></tr>\n",
       "\t<tr><td>6 </td><td> 8</td><td> 8</td><td>1 </td><td>3 </td><td>4 </td><td>3 </td><td>7 </td><td>1 </td></tr>\n",
       "\t<tr><td>4 </td><td> 1</td><td> 1</td><td>3 </td><td>2 </td><td>1 </td><td>3 </td><td>1 </td><td>1 </td></tr>\n",
       "\t<tr><td>8 </td><td>10</td><td>10</td><td>8 </td><td>7 </td><td>10</td><td>9 </td><td>7 </td><td>1 </td></tr>\n",
       "</tbody>\n",
       "</table>\n"
      ],
      "text/latex": [
       "\\begin{tabular}{r|lllllllll}\n",
       " V2 & V3 & V4 & V5 & V6 & V7 & V8 & V9 & V10\\\\\n",
       "\\hline\n",
       "\t 5  &  1 &  1 & 1  & 2  & 1  & 3  & 1  & 1 \\\\\n",
       "\t 5  &  4 &  4 & 5  & 7  & 10 & 3  & 2  & 1 \\\\\n",
       "\t 3  &  1 &  1 & 1  & 2  & 2  & 3  & 1  & 1 \\\\\n",
       "\t 6  &  8 &  8 & 1  & 3  & 4  & 3  & 7  & 1 \\\\\n",
       "\t 4  &  1 &  1 & 3  & 2  & 1  & 3  & 1  & 1 \\\\\n",
       "\t 8  & 10 & 10 & 8  & 7  & 10 & 9  & 7  & 1 \\\\\n",
       "\\end{tabular}\n"
      ],
      "text/markdown": [
       "\n",
       "V2 | V3 | V4 | V5 | V6 | V7 | V8 | V9 | V10 | \n",
       "|---|---|---|---|---|---|\n",
       "| 5  |  1 |  1 | 1  | 2  | 1  | 3  | 1  | 1  | \n",
       "| 5  |  4 |  4 | 5  | 7  | 10 | 3  | 2  | 1  | \n",
       "| 3  |  1 |  1 | 1  | 2  | 2  | 3  | 1  | 1  | \n",
       "| 6  |  8 |  8 | 1  | 3  | 4  | 3  | 7  | 1  | \n",
       "| 4  |  1 |  1 | 3  | 2  | 1  | 3  | 1  | 1  | \n",
       "| 8  | 10 | 10 | 8  | 7  | 10 | 9  | 7  | 1  | \n",
       "\n",
       "\n"
      ],
      "text/plain": [
       "  V2 V3 V4 V5 V6 V7 V8 V9 V10\n",
       "1 5   1  1 1  2  1  3  1  1  \n",
       "2 5   4  4 5  7  10 3  2  1  \n",
       "3 3   1  1 1  2  2  3  1  1  \n",
       "4 6   8  8 1  3  4  3  7  1  \n",
       "5 4   1  1 3  2  1  3  1  1  \n",
       "6 8  10 10 8  7  10 9  7  1  "
      ]
     },
     "metadata": {},
     "output_type": "display_data"
    }
   ],
   "source": [
    "head(data_regress)"
   ]
  },
  {
   "cell_type": "code",
   "execution_count": 16,
   "metadata": {},
   "outputs": [
    {
     "data": {
      "text/plain": [
       "\n",
       "Call:\n",
       "lm(formula = V7 ~ ., data = data_regress)\n",
       "\n",
       "Residuals:\n",
       "    Min      1Q  Median      3Q     Max \n",
       "-9.7316 -0.9426 -0.3002  0.6725  8.6998 \n",
       "\n",
       "Coefficients:\n",
       "             Estimate Std. Error t value Pr(>|t|)    \n",
       "(Intercept) -0.616652   0.194975  -3.163  0.00163 ** \n",
       "V2           0.230156   0.041691   5.521 4.83e-08 ***\n",
       "V3          -0.067980   0.076170  -0.892  0.37246    \n",
       "V4           0.340442   0.073420   4.637 4.25e-06 ***\n",
       "V5           0.339705   0.045919   7.398 4.13e-13 ***\n",
       "V6           0.090392   0.062541   1.445  0.14883    \n",
       "V8           0.320577   0.059047   5.429 7.91e-08 ***\n",
       "V9           0.007293   0.044486   0.164  0.86983    \n",
       "V10         -0.075230   0.059331  -1.268  0.20524    \n",
       "---\n",
       "Signif. codes:  0 ‘***’ 0.001 ‘**’ 0.01 ‘*’ 0.05 ‘.’ 0.1 ‘ ’ 1\n",
       "\n",
       "Residual standard error: 2.274 on 674 degrees of freedom\n",
       "Multiple R-squared:  0.615,\tAdjusted R-squared:  0.6104 \n",
       "F-statistic: 134.6 on 8 and 674 DF,  p-value: < 2.2e-16\n"
      ]
     },
     "metadata": {},
     "output_type": "display_data"
    }
   ],
   "source": [
    "model <- lm(V7 ~., data = data_regress)\n",
    "summary(model)"
   ]
  },
  {
   "cell_type": "code",
   "execution_count": 17,
   "metadata": {},
   "outputs": [],
   "source": [
    "### it can be seen that not all variables are significant. Hence performing a stepwise regression to \n",
    "### select siginificant features"
   ]
  },
  {
   "cell_type": "code",
   "execution_count": 18,
   "metadata": {},
   "outputs": [
    {
     "name": "stdout",
     "output_type": "stream",
     "text": [
      "Start:  AIC=1131.43\n",
      "V7 ~ V2 + V3 + V4 + V5 + V6 + V8 + V9 + V10\n",
      "\n",
      "       Df Sum of Sq    RSS    AIC\n",
      "- V9    1     0.139 3486.8 1129.5\n",
      "- V3    1     4.120 3490.8 1130.2\n",
      "- V10   1     8.317 3495.0 1131.0\n",
      "<none>              3486.6 1131.4\n",
      "- V6    1    10.806 3497.5 1131.5\n",
      "- V4    1   111.227 3597.9 1150.9\n",
      "- V8    1   152.482 3639.1 1158.7\n",
      "- V2    1   157.657 3644.3 1159.6\n",
      "- V5    1   283.119 3769.8 1182.8\n",
      "\n",
      "Step:  AIC=1129.45\n",
      "V7 ~ V2 + V3 + V4 + V5 + V6 + V8 + V10\n",
      "\n",
      "       Df Sum of Sq    RSS    AIC\n",
      "- V3    1     4.028 3490.8 1128.2\n",
      "- V10   1     8.179 3495.0 1129.0\n",
      "<none>              3486.8 1129.5\n",
      "- V6    1    11.211 3498.0 1129.7\n",
      "- V4    1   114.768 3601.6 1149.6\n",
      "- V2    1   158.696 3645.5 1157.8\n",
      "- V8    1   160.776 3647.6 1158.2\n",
      "- V5    1   285.902 3772.7 1181.3\n",
      "\n",
      "Step:  AIC=1128.24\n",
      "V7 ~ V2 + V4 + V5 + V6 + V8 + V10\n",
      "\n",
      "       Df Sum of Sq    RSS    AIC\n",
      "- V6    1     8.606 3499.4 1127.9\n",
      "- V10   1     8.889 3499.7 1128.0\n",
      "<none>              3490.8 1128.2\n",
      "- V4    1   153.078 3643.9 1155.6\n",
      "- V2    1   155.308 3646.1 1156.0\n",
      "- V8    1   157.123 3647.9 1156.3\n",
      "- V5    1   282.133 3772.9 1179.3\n",
      "\n",
      "Step:  AIC=1127.92\n",
      "V7 ~ V2 + V4 + V5 + V8 + V10\n",
      "\n",
      "       Df Sum of Sq    RSS    AIC\n",
      "- V10   1     5.562 3505.0 1127.0\n",
      "<none>              3499.4 1127.9\n",
      "- V2    1   159.594 3659.0 1156.4\n",
      "- V8    1   169.954 3669.4 1158.3\n",
      "- V4    1   206.785 3706.2 1165.1\n",
      "- V5    1   295.807 3795.2 1181.3\n",
      "\n",
      "Step:  AIC=1127.01\n",
      "V7 ~ V2 + V4 + V5 + V8\n",
      "\n",
      "       Df Sum of Sq    RSS    AIC\n",
      "<none>              3505.0 1127.0\n",
      "- V2    1    155.70 3660.7 1154.7\n",
      "- V8    1    172.42 3677.4 1157.8\n",
      "- V4    1    201.22 3706.2 1163.1\n",
      "- V5    1    290.68 3795.7 1179.4\n"
     ]
    },
    {
     "data": {
      "text/plain": [
       "\n",
       "Call:\n",
       "lm(formula = V7 ~ V2 + V4 + V5 + V8, data = data_regress)\n",
       "\n",
       "Coefficients:\n",
       "(Intercept)           V2           V4           V5           V8  \n",
       "    -0.5360       0.2262       0.3173       0.3323       0.3238  \n"
      ]
     },
     "metadata": {},
     "output_type": "display_data"
    }
   ],
   "source": [
    "step(model)"
   ]
  },
  {
   "cell_type": "code",
   "execution_count": 19,
   "metadata": {},
   "outputs": [
    {
     "data": {
      "text/plain": [
       "\n",
       "Call:\n",
       "lm(formula = V7 ~ V2 + V4 + V5 + V8, data = data_regress)\n",
       "\n",
       "Residuals:\n",
       "    Min      1Q  Median      3Q     Max \n",
       "-9.8115 -0.9531 -0.3111  0.6678  8.6889 \n",
       "\n",
       "Coefficients:\n",
       "            Estimate Std. Error t value Pr(>|t|)    \n",
       "(Intercept) -0.53601    0.17514  -3.060   0.0023 ** \n",
       "V2           0.22617    0.04121   5.488 5.75e-08 ***\n",
       "V4           0.31729    0.05086   6.239 7.76e-10 ***\n",
       "V5           0.33227    0.04431   7.499 2.03e-13 ***\n",
       "V8           0.32378    0.05606   5.775 1.17e-08 ***\n",
       "---\n",
       "Signif. codes:  0 ‘***’ 0.001 ‘**’ 0.01 ‘*’ 0.05 ‘.’ 0.1 ‘ ’ 1\n",
       "\n",
       "Residual standard error: 2.274 on 678 degrees of freedom\n",
       "Multiple R-squared:  0.6129,\tAdjusted R-squared:  0.6107 \n",
       "F-statistic: 268.4 on 4 and 678 DF,  p-value: < 2.2e-16\n"
      ]
     },
     "metadata": {},
     "output_type": "display_data"
    }
   ],
   "source": [
    "###\n",
    "model_modified <- lm(V7 ~ V2 + V4 + V5 + V8, data = data_regress)\n",
    "summary(model_modified)"
   ]
  },
  {
   "cell_type": "code",
   "execution_count": 20,
   "metadata": {},
   "outputs": [
    {
     "name": "stderr",
     "output_type": "stream",
     "text": [
      "Warning message:\n",
      "“package ‘caret’ was built under R version 3.4.4”Loading required package: lattice\n",
      "Loading required package: ggplot2\n",
      "Warning message:\n",
      "“package ‘ggplot2’ was built under R version 3.4.4”Warning message in as.POSIXlt.POSIXct(Sys.time()):\n",
      "“unknown timezone 'zone/tz/2018f.1.0/zoneinfo/America/New_York'”"
     ]
    },
    {
     "name": "stdout",
     "output_type": "stream",
     "text": [
      "Linear Regression \n",
      "\n",
      "683 samples\n",
      "  4 predictor\n",
      "\n",
      "No pre-processing\n",
      "Resampling: Cross-Validated (5 fold, repeated 5 times) \n",
      "Summary of sample sizes: 546, 547, 546, 547, 546, 546, ... \n",
      "Resampling results:\n",
      "\n",
      "  RMSE      Rsquared   MAE    \n",
      "  2.294518  0.6136416  1.53733\n",
      "\n",
      "Tuning parameter 'intercept' was held constant at a value of TRUE\n"
     ]
    }
   ],
   "source": [
    "### performing cross validation to check the performance of above model.\n",
    "\n",
    "library(caret)\n",
    "data_regress$V7 <- as.integer(data_regress$V7)\n",
    "train.control <- trainControl(method = 'repeatedcv', repeats = 5, number = 5)\n",
    "model_cv <- train(V7 ~ V2 + V4 + V5 + V8, data = data_regress, method = 'lm', trControl = train.control)\n",
    "print(model_cv)"
   ]
  },
  {
   "cell_type": "code",
   "execution_count": 21,
   "metadata": {},
   "outputs": [],
   "source": [
    "V7_regress_impute <- predict(model_modified, data[missing_indices,])"
   ]
  },
  {
   "cell_type": "code",
   "execution_count": 22,
   "metadata": {},
   "outputs": [
    {
     "data": {
      "text/html": [
       "<dl class=dl-horizontal>\n",
       "\t<dt>24</dt>\n",
       "\t\t<dd>5.45853515759216</dd>\n",
       "\t<dt>41</dt>\n",
       "\t\t<dd>7.98161057649732</dd>\n",
       "\t<dt>140</dt>\n",
       "\t\t<dd>0.987283186665087</dd>\n",
       "\t<dt>146</dt>\n",
       "\t\t<dd>1.62185603726251</dd>\n",
       "\t<dt>159</dt>\n",
       "\t\t<dd>0.980785074712774</dd>\n",
       "\t<dt>165</dt>\n",
       "\t\t<dd>2.21574405733159</dd>\n",
       "\t<dt>236</dt>\n",
       "\t\t<dd>2.71526516651999</dd>\n",
       "\t<dt>250</dt>\n",
       "\t\t<dd>1.76340589062385</dd>\n",
       "\t<dt>276</dt>\n",
       "\t\t<dd>2.07419420397025</dd>\n",
       "\t<dt>293</dt>\n",
       "\t\t<dd>6.08660989623727</dd>\n",
       "\t<dt>295</dt>\n",
       "\t\t<dd>0.987283186665087</dd>\n",
       "\t<dt>298</dt>\n",
       "\t\t<dd>2.52653237067799</dd>\n",
       "\t<dt>316</dt>\n",
       "\t\t<dd>5.24383468761997</dd>\n",
       "\t<dt>322</dt>\n",
       "\t\t<dd>1.76340589062385</dd>\n",
       "\t<dt>412</dt>\n",
       "\t\t<dd>0.987283186665087</dd>\n",
       "\t<dt>618</dt>\n",
       "\t\t<dd>0.663498649414061</dd>\n",
       "</dl>\n"
      ],
      "text/latex": [
       "\\begin{description*}\n",
       "\\item[24] 5.45853515759216\n",
       "\\item[41] 7.98161057649732\n",
       "\\item[140] 0.987283186665087\n",
       "\\item[146] 1.62185603726251\n",
       "\\item[159] 0.980785074712774\n",
       "\\item[165] 2.21574405733159\n",
       "\\item[236] 2.71526516651999\n",
       "\\item[250] 1.76340589062385\n",
       "\\item[276] 2.07419420397025\n",
       "\\item[293] 6.08660989623727\n",
       "\\item[295] 0.987283186665087\n",
       "\\item[298] 2.52653237067799\n",
       "\\item[316] 5.24383468761997\n",
       "\\item[322] 1.76340589062385\n",
       "\\item[412] 0.987283186665087\n",
       "\\item[618] 0.663498649414061\n",
       "\\end{description*}\n"
      ],
      "text/markdown": [
       "24\n",
       ":   5.4585351575921641\n",
       ":   7.98161057649732140\n",
       ":   0.987283186665087146\n",
       ":   1.62185603726251159\n",
       ":   0.980785074712774165\n",
       ":   2.21574405733159236\n",
       ":   2.71526516651999250\n",
       ":   1.76340589062385276\n",
       ":   2.07419420397025293\n",
       ":   6.08660989623727295\n",
       ":   0.987283186665087298\n",
       ":   2.52653237067799316\n",
       ":   5.24383468761997322\n",
       ":   1.76340589062385412\n",
       ":   0.987283186665087618\n",
       ":   0.663498649414061\n",
       "\n"
      ],
      "text/plain": [
       "       24        41       140       146       159       165       236       250 \n",
       "5.4585352 7.9816106 0.9872832 1.6218560 0.9807851 2.2157441 2.7152652 1.7634059 \n",
       "      276       293       295       298       316       322       412       618 \n",
       "2.0741942 6.0866099 0.9872832 2.5265324 5.2438347 1.7634059 0.9872832 0.6634986 "
      ]
     },
     "metadata": {},
     "output_type": "display_data"
    }
   ],
   "source": [
    "### printing values to check if they are within 1-10\n",
    "V7_regress_impute"
   ]
  },
  {
   "cell_type": "code",
   "execution_count": 23,
   "metadata": {},
   "outputs": [],
   "source": [
    "data_impute_regress <- data\n",
    "data_impute_regress[missing_indices, 'V7'] <- V7_regress_impute\n",
    "data_impute_regress$V7 <- as.integer(data_impute_regress$V7)\n",
    "\n",
    "###ensuring all values are within the range\n",
    "\n",
    "data_impute_regress$V7[data_impute_regress$V7 > 10] <- 10\n",
    "data_impute_regress$V7[data_impute_regress$V7 < 1] <- 1"
   ]
  },
  {
   "cell_type": "code",
   "execution_count": 24,
   "metadata": {},
   "outputs": [],
   "source": [
    "#### imputation using regression pertubation\n",
    "\n",
    "\n",
    "set.seed(42)\n",
    "\n",
    "data_impute_pert <- data\n",
    "data_impute_pert[missing_indices, 'V7'] <- rnorm(length(V7_regress_impute), \n",
    "                                                 V7_regress_impute, \n",
    "                                                 sd(V7_regress_impute))\n",
    "data_impute_pert$V7 <- as.integer(data_impute_pert$V7)\n",
    "\n",
    "\n",
    "### ensuring the values are between 1 and 10\n",
    "data_impute_pert$V7[data_impute_pert$V7 > 10] <- 10\n",
    "data_impute_pert$V7[data_impute_pert$V7 < 1] <- 1"
   ]
  },
  {
   "cell_type": "code",
   "execution_count": 25,
   "metadata": {},
   "outputs": [
    {
     "name": "stderr",
     "output_type": "stream",
     "text": [
      "\n",
      "Attaching package: ‘kknn’\n",
      "\n",
      "The following object is masked from ‘package:caret’:\n",
      "\n",
      "    contr.dummy\n",
      "\n"
     ]
    }
   ],
   "source": [
    "####classification using KNN \n",
    "\n",
    "library(kknn)\n",
    "\n",
    "set.seed(42)\n",
    "\n",
    "training <- sample(nrow(data), size = floor(nrow(data) * 0.75))\n",
    "test <- setdiff(1:nrow(data), training)"
   ]
  },
  {
   "cell_type": "code",
   "execution_count": 26,
   "metadata": {},
   "outputs": [
    {
     "name": "stdout",
     "output_type": "stream",
     "text": [
      "[1] 0.9542857\n",
      "[1] 0.9542857\n",
      "[1] 0.9371429\n",
      "[1] 0.9371429\n",
      "[1] 0.9371429\n"
     ]
    }
   ],
   "source": [
    "### mode imputation\n",
    "\n",
    "###if we don't include the following command we get a subscript out of bond error\n",
    "data_impute_mode$V7 <- as.integer(data_impute_mode$V7)\n",
    "\n",
    "for (k in 1:5) {\n",
    "  \n",
    "  knn_model <- kknn(V11~V2+V3+V4+V5+V6+V7+V8+V9+V10, data_impute_mode[training,], data_impute_mode[test,], k=k)\n",
    "  pred <- as.integer(fitted(knn_model)+0.5) # round off to 2 or 4\n",
    "  acc_knn = sum(pred == data_impute_mode[test,]$V11) / nrow(data_impute_mode[test,])\n",
    "  print(acc_knn)\n",
    "}"
   ]
  },
  {
   "cell_type": "code",
   "execution_count": 27,
   "metadata": {},
   "outputs": [
    {
     "name": "stdout",
     "output_type": "stream",
     "text": [
      "[1] 0.9542857\n",
      "[1] 0.9542857\n",
      "[1] 0.9371429\n",
      "[1] 0.9371429\n",
      "[1] 0.9371429\n"
     ]
    }
   ],
   "source": [
    "### mean imputation\n",
    "\n",
    "data_impute_mean$V7 <- as.integer(data_impute_mean$V7)\n",
    "\n",
    "for (k in 1:5) {\n",
    "  \n",
    "  knn_model <- kknn(V11~V2+V3+V4+V5+V6+V7+V8+V9+V10, data_impute_mean[training,], data_impute_mean[test,], k=k)\n",
    "  pred <- as.integer(fitted(knn_model)+0.5) # rounding off\n",
    "  acc_knn = sum(pred == data_impute_mean[test,]$V11) / nrow(data_impute_mean[test,])\n",
    "  print(acc_knn)\n",
    "}"
   ]
  },
  {
   "cell_type": "code",
   "execution_count": 28,
   "metadata": {},
   "outputs": [
    {
     "name": "stdout",
     "output_type": "stream",
     "text": [
      "[1] 0.9485714\n",
      "[1] 0.9485714\n",
      "[1] 0.9314286\n",
      "[1] 0.9314286\n",
      "[1] 0.9314286\n"
     ]
    }
   ],
   "source": [
    "### regression imputation\n",
    "\n",
    "for (k in 1:5) {\n",
    "  \n",
    "  knn_model <- kknn(V11~V2+V3+V4+V5+V6+V7+V8+V9+V10, data_impute_regress[training,], \n",
    "                    data_impute_regress[test,], k=k)\n",
    "  pred <- as.integer(fitted(knn_model)+0.5) # rounding off\n",
    "  acc_knn = sum(pred == data_impute_regress[test,]$V11) / nrow(data_impute_regress[test,])\n",
    "  print(acc_knn)\n",
    "}"
   ]
  },
  {
   "cell_type": "code",
   "execution_count": 29,
   "metadata": {},
   "outputs": [
    {
     "name": "stdout",
     "output_type": "stream",
     "text": [
      "[1] 0.9485714\n",
      "[1] 0.9485714\n",
      "[1] 0.9257143\n",
      "[1] 0.9257143\n",
      "[1] 0.9257143\n"
     ]
    }
   ],
   "source": [
    "### regression pertubation imputation\n",
    "\n",
    "for (k in 1:5) {\n",
    "  \n",
    "  knn_model <- kknn(V11~V2+V3+V4+V5+V6+V7+V8+V9+V10, data_impute_pert[training,], \n",
    "                    data_impute_pert[test,], k=k)\n",
    "  pred <- as.integer(fitted(knn_model)+0.5) # rounding off\n",
    "  acc_knn = sum(pred == data_impute_pert[test,]$V11) / nrow(data_impute_pert[test,])\n",
    "  print(acc_knn)\n",
    "}"
   ]
  },
  {
   "cell_type": "code",
   "execution_count": 30,
   "metadata": {},
   "outputs": [
    {
     "name": "stdout",
     "output_type": "stream",
     "text": [
      "[1] 0.994152\n",
      "[1] 0.994152\n",
      "[1] 0.9532164\n",
      "[1] 0.9532164\n",
      "[1] 0.9532164\n"
     ]
    }
   ],
   "source": [
    "###dropping missing values\n",
    "data_drop <- data[-missing_indices,]\n",
    "\n",
    "training_drop <- sample(nrow(data_drop), size = floor(nrow(data_drop) * 0.75))\n",
    "test_drop <- setdiff(1:nrow(data_drop), training) \n",
    "for (k in 1:5) {\n",
    "  \n",
    "  knn_model <- kknn(V11~V2+V3+V4+V5+V6+V7+V8+V9+V10, data_drop[training_drop,], \n",
    "                    data_drop[test_drop,], k=k)\n",
    "  pred <- as.integer(fitted(knn_model)+0.5) # rounding off\n",
    "  acc_knn = sum(pred == data_drop[test_drop,]$V11) / nrow(data_drop[test_drop,])\n",
    "  print(acc_knn)\n",
    "}"
   ]
  },
  {
   "cell_type": "code",
   "execution_count": 31,
   "metadata": {},
   "outputs": [
    {
     "name": "stdout",
     "output_type": "stream",
     "text": [
      "[1] 0.9542857\n",
      "[1] 0.9542857\n",
      "[1] 0.9371429\n",
      "[1] 0.9371429\n",
      "[1] 0.9371429\n"
     ]
    }
   ],
   "source": [
    "### using interaction\n",
    "\n",
    "data_binary <- data\n",
    "data_binary$V12[data$V7 == \"?\"] <- 0\n",
    "data_binary$V12[data$V7 != \"?\"] <- 1\n",
    "\n",
    "# Create interaction factor for V7 and V12.\n",
    "\n",
    "data_binary$V13[data$V7 == \"?\"] <- 0\n",
    "data_binary$V13[data$V7 != \"?\"] <- as.integer(data[-missing_indices,]$V7)\n",
    "\n",
    "for (k in 1:5) {\n",
    "    \n",
    "  knn_model <- kknn(V11~V2+V3+V4+V5+V6+V8+V9+V10+V13, data_binary[training,], data_binary[test,], k=k)\n",
    "  pred <- as.integer(fitted(knn_model)+0.5) # rounding off\n",
    "  acc_knn = sum(pred == data_binary[test,]$V11) / nrow(data_binary[test,])\n",
    "  print(acc_knn)\n",
    "}"
   ]
  },
  {
   "cell_type": "markdown",
   "metadata": {},
   "source": [
    "It can be seen that there's not much of a difference between accuracies obtained using different datasets (data using different imputations). The highest accuracy obtained was when we dropped the missing values. However, the difference was not so significant. One more interesting thing to note --- performance on mean, mode and interaction dataset is similar i.e. same accuracy values are obtained. I believe this nature is due to very less missing values. If we had more data missing, then performance would have been different."
   ]
  },
  {
   "cell_type": "markdown",
   "metadata": {},
   "source": [
    "15.1 \n",
    "\n",
    "I work as a data scientist at a small business lending firm. We have targets for each month i.e. number of loans to be booked. At the same time, amount of capital to lend is limited. We have to ensure that we optimize and book loans with good quality to ensure efficient utilization of the capital. \n",
    "\n",
    "n <- number of loans to book\n",
    "amt <- capital available to book loans\n",
    "\n",
    "loss on each loan <- loss due to default of individual loans \n",
    "\n",
    "min (total loss) while ensuring the constraint on loans and amount.\n",
    "\n",
    "data required would be performance of loans booked in the past -- losses, characteristics of loans, etc.\n",
    "\n"
   ]
  },
  {
   "cell_type": "code",
   "execution_count": null,
   "metadata": {},
   "outputs": [],
   "source": []
  }
 ],
 "metadata": {
  "kernelspec": {
   "display_name": "R",
   "language": "R",
   "name": "ir"
  },
  "language_info": {
   "codemirror_mode": "r",
   "file_extension": ".r",
   "mimetype": "text/x-r-source",
   "name": "R",
   "pygments_lexer": "r",
   "version": "3.4.2"
  }
 },
 "nbformat": 4,
 "nbformat_minor": 2
}
