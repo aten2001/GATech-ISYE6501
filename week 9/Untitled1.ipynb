{
 "cells": [
  {
   "cell_type": "code",
   "execution_count": 4,
   "metadata": {},
   "outputs": [
    {
     "data": {
      "text/html": [
       "<table>\n",
       "<thead><tr><th scope=col>dishwasher</th><th scope=col>car.parking</th><th scope=col>high.speed.internet</th><th scope=col>wooden.flooring</th><th scope=col>elevator</th><th scope=col>gym</th><th scope=col>central.ac</th><th scope=col>good.schools</th><th scope=col>backyard</th><th scope=col>in.house.laundry</th></tr></thead>\n",
       "<tbody>\n",
       "\t<tr><td>1 </td><td>1 </td><td>1 </td><td>1 </td><td>1 </td><td>1 </td><td>1 </td><td>1 </td><td>1 </td><td>1 </td></tr>\n",
       "\t<tr><td>-1</td><td>1 </td><td>-1</td><td>1 </td><td>-1</td><td>1 </td><td>-1</td><td>-1</td><td>-1</td><td>1 </td></tr>\n",
       "\t<tr><td>1 </td><td>-1</td><td>-1</td><td>-1</td><td>-1</td><td>-1</td><td>1 </td><td>-1</td><td>-1</td><td>-1</td></tr>\n",
       "\t<tr><td>1 </td><td>1 </td><td>1 </td><td>-1</td><td>1 </td><td>1 </td><td>1 </td><td>-1</td><td>-1</td><td>-1</td></tr>\n",
       "\t<tr><td>1 </td><td>-1</td><td>1 </td><td>-1</td><td>-1</td><td>1 </td><td>-1</td><td>-1</td><td>1 </td><td>1 </td></tr>\n",
       "\t<tr><td>1 </td><td>-1</td><td>1 </td><td>1 </td><td>-1</td><td>1 </td><td>-1</td><td>1 </td><td>-1</td><td>-1</td></tr>\n",
       "\t<tr><td>-1</td><td>-1</td><td>1 </td><td>-1</td><td>1 </td><td>-1</td><td>-1</td><td>1 </td><td>1 </td><td>-1</td></tr>\n",
       "\t<tr><td>-1</td><td>-1</td><td>-1</td><td>-1</td><td>1 </td><td>1 </td><td>1 </td><td>1 </td><td>-1</td><td>1 </td></tr>\n",
       "\t<tr><td>1 </td><td>1 </td><td>-1</td><td>1 </td><td>1 </td><td>-1</td><td>-1</td><td>1 </td><td>-1</td><td>-1</td></tr>\n",
       "\t<tr><td>-1</td><td>1 </td><td>1 </td><td>1 </td><td>-1</td><td>-1</td><td>1 </td><td>-1</td><td>1 </td><td>-1</td></tr>\n",
       "\t<tr><td>1 </td><td>1 </td><td>-1</td><td>-1</td><td>1 </td><td>-1</td><td>-1</td><td>-1</td><td>1 </td><td>1 </td></tr>\n",
       "\t<tr><td>-1</td><td>-1</td><td>-1</td><td>1 </td><td>1 </td><td>1 </td><td>1 </td><td>-1</td><td>1 </td><td>-1</td></tr>\n",
       "\t<tr><td>-1</td><td>-1</td><td>1 </td><td>1 </td><td>1 </td><td>-1</td><td>-1</td><td>-1</td><td>-1</td><td>1 </td></tr>\n",
       "\t<tr><td>-1</td><td>1 </td><td>-1</td><td>-1</td><td>-1</td><td>1 </td><td>-1</td><td>1 </td><td>1 </td><td>-1</td></tr>\n",
       "\t<tr><td>-1</td><td>1 </td><td>1 </td><td>-1</td><td>-1</td><td>-1</td><td>1 </td><td>1 </td><td>-1</td><td>1 </td></tr>\n",
       "\t<tr><td>1 </td><td>-1</td><td>-1</td><td>1 </td><td>-1</td><td>-1</td><td>1 </td><td>1 </td><td>1 </td><td>1 </td></tr>\n",
       "</tbody>\n",
       "</table>\n"
      ],
      "text/latex": [
       "\\begin{tabular}{r|llllllllll}\n",
       " dishwasher & car.parking & high.speed.internet & wooden.flooring & elevator & gym & central.ac & good.schools & backyard & in.house.laundry\\\\\n",
       "\\hline\n",
       "\t 1  & 1  & 1  & 1  & 1  & 1  & 1  & 1  & 1  & 1 \\\\\n",
       "\t -1 & 1  & -1 & 1  & -1 & 1  & -1 & -1 & -1 & 1 \\\\\n",
       "\t 1  & -1 & -1 & -1 & -1 & -1 & 1  & -1 & -1 & -1\\\\\n",
       "\t 1  & 1  & 1  & -1 & 1  & 1  & 1  & -1 & -1 & -1\\\\\n",
       "\t 1  & -1 & 1  & -1 & -1 & 1  & -1 & -1 & 1  & 1 \\\\\n",
       "\t 1  & -1 & 1  & 1  & -1 & 1  & -1 & 1  & -1 & -1\\\\\n",
       "\t -1 & -1 & 1  & -1 & 1  & -1 & -1 & 1  & 1  & -1\\\\\n",
       "\t -1 & -1 & -1 & -1 & 1  & 1  & 1  & 1  & -1 & 1 \\\\\n",
       "\t 1  & 1  & -1 & 1  & 1  & -1 & -1 & 1  & -1 & -1\\\\\n",
       "\t -1 & 1  & 1  & 1  & -1 & -1 & 1  & -1 & 1  & -1\\\\\n",
       "\t 1  & 1  & -1 & -1 & 1  & -1 & -1 & -1 & 1  & 1 \\\\\n",
       "\t -1 & -1 & -1 & 1  & 1  & 1  & 1  & -1 & 1  & -1\\\\\n",
       "\t -1 & -1 & 1  & 1  & 1  & -1 & -1 & -1 & -1 & 1 \\\\\n",
       "\t -1 & 1  & -1 & -1 & -1 & 1  & -1 & 1  & 1  & -1\\\\\n",
       "\t -1 & 1  & 1  & -1 & -1 & -1 & 1  & 1  & -1 & 1 \\\\\n",
       "\t 1  & -1 & -1 & 1  & -1 & -1 & 1  & 1  & 1  & 1 \\\\\n",
       "\\end{tabular}\n"
      ],
      "text/markdown": [
       "\n",
       "dishwasher | car.parking | high.speed.internet | wooden.flooring | elevator | gym | central.ac | good.schools | backyard | in.house.laundry | \n",
       "|---|---|---|---|---|---|---|---|---|---|---|---|---|---|---|---|\n",
       "| 1  | 1  | 1  | 1  | 1  | 1  | 1  | 1  | 1  | 1  | \n",
       "| -1 | 1  | -1 | 1  | -1 | 1  | -1 | -1 | -1 | 1  | \n",
       "| 1  | -1 | -1 | -1 | -1 | -1 | 1  | -1 | -1 | -1 | \n",
       "| 1  | 1  | 1  | -1 | 1  | 1  | 1  | -1 | -1 | -1 | \n",
       "| 1  | -1 | 1  | -1 | -1 | 1  | -1 | -1 | 1  | 1  | \n",
       "| 1  | -1 | 1  | 1  | -1 | 1  | -1 | 1  | -1 | -1 | \n",
       "| -1 | -1 | 1  | -1 | 1  | -1 | -1 | 1  | 1  | -1 | \n",
       "| -1 | -1 | -1 | -1 | 1  | 1  | 1  | 1  | -1 | 1  | \n",
       "| 1  | 1  | -1 | 1  | 1  | -1 | -1 | 1  | -1 | -1 | \n",
       "| -1 | 1  | 1  | 1  | -1 | -1 | 1  | -1 | 1  | -1 | \n",
       "| 1  | 1  | -1 | -1 | 1  | -1 | -1 | -1 | 1  | 1  | \n",
       "| -1 | -1 | -1 | 1  | 1  | 1  | 1  | -1 | 1  | -1 | \n",
       "| -1 | -1 | 1  | 1  | 1  | -1 | -1 | -1 | -1 | 1  | \n",
       "| -1 | 1  | -1 | -1 | -1 | 1  | -1 | 1  | 1  | -1 | \n",
       "| -1 | 1  | 1  | -1 | -1 | -1 | 1  | 1  | -1 | 1  | \n",
       "| 1  | -1 | -1 | 1  | -1 | -1 | 1  | 1  | 1  | 1  | \n",
       "\n",
       "\n"
      ],
      "text/plain": [
       "   dishwasher car.parking high.speed.internet wooden.flooring elevator gym\n",
       "1  1          1           1                   1               1        1  \n",
       "2  -1         1           -1                  1               -1       1  \n",
       "3  1          -1          -1                  -1              -1       -1 \n",
       "4  1          1           1                   -1              1        1  \n",
       "5  1          -1          1                   -1              -1       1  \n",
       "6  1          -1          1                   1               -1       1  \n",
       "7  -1         -1          1                   -1              1        -1 \n",
       "8  -1         -1          -1                  -1              1        1  \n",
       "9  1          1           -1                  1               1        -1 \n",
       "10 -1         1           1                   1               -1       -1 \n",
       "11 1          1           -1                  -1              1        -1 \n",
       "12 -1         -1          -1                  1               1        1  \n",
       "13 -1         -1          1                   1               1        -1 \n",
       "14 -1         1           -1                  -1              -1       1  \n",
       "15 -1         1           1                   -1              -1       -1 \n",
       "16 1          -1          -1                  1               -1       -1 \n",
       "   central.ac good.schools backyard in.house.laundry\n",
       "1  1          1            1        1               \n",
       "2  -1         -1           -1       1               \n",
       "3  1          -1           -1       -1              \n",
       "4  1          -1           -1       -1              \n",
       "5  -1         -1           1        1               \n",
       "6  -1         1            -1       -1              \n",
       "7  -1         1            1        -1              \n",
       "8  1          1            -1       1               \n",
       "9  -1         1            -1       -1              \n",
       "10 1          -1           1        -1              \n",
       "11 -1         -1           1        1               \n",
       "12 1          -1           1        -1              \n",
       "13 -1         -1           -1       1               \n",
       "14 -1         1            1        -1              \n",
       "15 1          1            -1       1               \n",
       "16 1          1            1        1               "
      ]
     },
     "metadata": {},
     "output_type": "display_data"
    }
   ],
   "source": [
    "# install.packages(\"FrF2\")\n",
    "library(FrF2)\n",
    "\n",
    "features = c(\"dishwasher\", \"car-parking\", \"high-speed-internet\",\n",
    "            \"wooden-flooring\", \"elevator\", \"gym\",\n",
    "            \"central-ac\", \"good-schools\", \"backyard\", \"in-house laundry\")\n",
    "\n",
    "FrF2(16, factor.names = features)"
   ]
  }
 ],
 "metadata": {
  "kernelspec": {
   "display_name": "R",
   "language": "R",
   "name": "ir"
  },
  "language_info": {
   "codemirror_mode": "r",
   "file_extension": ".r",
   "mimetype": "text/x-r-source",
   "name": "R",
   "pygments_lexer": "r",
   "version": "3.4.2"
  }
 },
 "nbformat": 4,
 "nbformat_minor": 2
}
