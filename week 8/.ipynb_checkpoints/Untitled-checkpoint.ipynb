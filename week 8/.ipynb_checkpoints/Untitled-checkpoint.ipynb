{
 "cells": [
  {
   "cell_type": "code",
   "execution_count": 1,
   "metadata": {},
   "outputs": [],
   "source": [
    "#reading the data\n",
    "data <- read.table('./uscrime.txt', stringsAsFactors = F, header = T)"
   ]
  },
  {
   "cell_type": "code",
   "execution_count": 2,
   "metadata": {},
   "outputs": [
    {
     "data": {
      "text/html": [
       "<table>\n",
       "<thead><tr><th scope=col>M</th><th scope=col>So</th><th scope=col>Ed</th><th scope=col>Po1</th><th scope=col>Po2</th><th scope=col>LF</th><th scope=col>M.F</th><th scope=col>Pop</th><th scope=col>NW</th><th scope=col>U1</th><th scope=col>U2</th><th scope=col>Wealth</th><th scope=col>Ineq</th><th scope=col>Prob</th><th scope=col>Time</th><th scope=col>Crime</th></tr></thead>\n",
       "<tbody>\n",
       "\t<tr><td>15.1    </td><td>1       </td><td> 9.1    </td><td> 5.8    </td><td> 5.6    </td><td>0.510   </td><td> 95.0   </td><td> 33     </td><td>30.1    </td><td>0.108   </td><td>4.1     </td><td>3940    </td><td>26.1    </td><td>0.084602</td><td>26.2011 </td><td> 791    </td></tr>\n",
       "\t<tr><td>14.3    </td><td>0       </td><td>11.3    </td><td>10.3    </td><td> 9.5    </td><td>0.583   </td><td>101.2   </td><td> 13     </td><td>10.2    </td><td>0.096   </td><td>3.6     </td><td>5570    </td><td>19.4    </td><td>0.029599</td><td>25.2999 </td><td>1635    </td></tr>\n",
       "\t<tr><td>14.2    </td><td>1       </td><td> 8.9    </td><td> 4.5    </td><td> 4.4    </td><td>0.533   </td><td> 96.9   </td><td> 18     </td><td>21.9    </td><td>0.094   </td><td>3.3     </td><td>3180    </td><td>25.0    </td><td>0.083401</td><td>24.3006 </td><td> 578    </td></tr>\n",
       "\t<tr><td>13.6    </td><td>0       </td><td>12.1    </td><td>14.9    </td><td>14.1    </td><td>0.577   </td><td> 99.4   </td><td>157     </td><td> 8.0    </td><td>0.102   </td><td>3.9     </td><td>6730    </td><td>16.7    </td><td>0.015801</td><td>29.9012 </td><td>1969    </td></tr>\n",
       "\t<tr><td>14.1    </td><td>0       </td><td>12.1    </td><td>10.9    </td><td>10.1    </td><td>0.591   </td><td> 98.5   </td><td> 18     </td><td> 3.0    </td><td>0.091   </td><td>2.0     </td><td>5780    </td><td>17.4    </td><td>0.041399</td><td>21.2998 </td><td>1234    </td></tr>\n",
       "\t<tr><td>12.1    </td><td>0       </td><td>11.0    </td><td>11.8    </td><td>11.5    </td><td>0.547   </td><td> 96.4   </td><td> 25     </td><td> 4.4    </td><td>0.084   </td><td>2.9     </td><td>6890    </td><td>12.6    </td><td>0.034201</td><td>20.9995 </td><td> 682    </td></tr>\n",
       "</tbody>\n",
       "</table>\n"
      ],
      "text/latex": [
       "\\begin{tabular}{r|llllllllllllllll}\n",
       " M & So & Ed & Po1 & Po2 & LF & M.F & Pop & NW & U1 & U2 & Wealth & Ineq & Prob & Time & Crime\\\\\n",
       "\\hline\n",
       "\t 15.1     & 1        &  9.1     &  5.8     &  5.6     & 0.510    &  95.0    &  33      & 30.1     & 0.108    & 4.1      & 3940     & 26.1     & 0.084602 & 26.2011  &  791    \\\\\n",
       "\t 14.3     & 0        & 11.3     & 10.3     &  9.5     & 0.583    & 101.2    &  13      & 10.2     & 0.096    & 3.6      & 5570     & 19.4     & 0.029599 & 25.2999  & 1635    \\\\\n",
       "\t 14.2     & 1        &  8.9     &  4.5     &  4.4     & 0.533    &  96.9    &  18      & 21.9     & 0.094    & 3.3      & 3180     & 25.0     & 0.083401 & 24.3006  &  578    \\\\\n",
       "\t 13.6     & 0        & 12.1     & 14.9     & 14.1     & 0.577    &  99.4    & 157      &  8.0     & 0.102    & 3.9      & 6730     & 16.7     & 0.015801 & 29.9012  & 1969    \\\\\n",
       "\t 14.1     & 0        & 12.1     & 10.9     & 10.1     & 0.591    &  98.5    &  18      &  3.0     & 0.091    & 2.0      & 5780     & 17.4     & 0.041399 & 21.2998  & 1234    \\\\\n",
       "\t 12.1     & 0        & 11.0     & 11.8     & 11.5     & 0.547    &  96.4    &  25      &  4.4     & 0.084    & 2.9      & 6890     & 12.6     & 0.034201 & 20.9995  &  682    \\\\\n",
       "\\end{tabular}\n"
      ],
      "text/markdown": [
       "\n",
       "M | So | Ed | Po1 | Po2 | LF | M.F | Pop | NW | U1 | U2 | Wealth | Ineq | Prob | Time | Crime | \n",
       "|---|---|---|---|---|---|\n",
       "| 15.1     | 1        |  9.1     |  5.8     |  5.6     | 0.510    |  95.0    |  33      | 30.1     | 0.108    | 4.1      | 3940     | 26.1     | 0.084602 | 26.2011  |  791     | \n",
       "| 14.3     | 0        | 11.3     | 10.3     |  9.5     | 0.583    | 101.2    |  13      | 10.2     | 0.096    | 3.6      | 5570     | 19.4     | 0.029599 | 25.2999  | 1635     | \n",
       "| 14.2     | 1        |  8.9     |  4.5     |  4.4     | 0.533    |  96.9    |  18      | 21.9     | 0.094    | 3.3      | 3180     | 25.0     | 0.083401 | 24.3006  |  578     | \n",
       "| 13.6     | 0        | 12.1     | 14.9     | 14.1     | 0.577    |  99.4    | 157      |  8.0     | 0.102    | 3.9      | 6730     | 16.7     | 0.015801 | 29.9012  | 1969     | \n",
       "| 14.1     | 0        | 12.1     | 10.9     | 10.1     | 0.591    |  98.5    |  18      |  3.0     | 0.091    | 2.0      | 5780     | 17.4     | 0.041399 | 21.2998  | 1234     | \n",
       "| 12.1     | 0        | 11.0     | 11.8     | 11.5     | 0.547    |  96.4    |  25      |  4.4     | 0.084    | 2.9      | 6890     | 12.6     | 0.034201 | 20.9995  |  682     | \n",
       "\n",
       "\n"
      ],
      "text/plain": [
       "  M    So Ed   Po1  Po2  LF    M.F   Pop NW   U1    U2  Wealth Ineq Prob    \n",
       "1 15.1 1   9.1  5.8  5.6 0.510  95.0  33 30.1 0.108 4.1 3940   26.1 0.084602\n",
       "2 14.3 0  11.3 10.3  9.5 0.583 101.2  13 10.2 0.096 3.6 5570   19.4 0.029599\n",
       "3 14.2 1   8.9  4.5  4.4 0.533  96.9  18 21.9 0.094 3.3 3180   25.0 0.083401\n",
       "4 13.6 0  12.1 14.9 14.1 0.577  99.4 157  8.0 0.102 3.9 6730   16.7 0.015801\n",
       "5 14.1 0  12.1 10.9 10.1 0.591  98.5  18  3.0 0.091 2.0 5780   17.4 0.041399\n",
       "6 12.1 0  11.0 11.8 11.5 0.547  96.4  25  4.4 0.084 2.9 6890   12.6 0.034201\n",
       "  Time    Crime\n",
       "1 26.2011  791 \n",
       "2 25.2999 1635 \n",
       "3 24.3006  578 \n",
       "4 29.9012 1969 \n",
       "5 21.2998 1234 \n",
       "6 20.9995  682 "
      ]
     },
     "metadata": {},
     "output_type": "display_data"
    }
   ],
   "source": [
    "#printing the head of the data\n",
    "head(data)"
   ]
  },
  {
   "cell_type": "code",
   "execution_count": 3,
   "metadata": {},
   "outputs": [],
   "source": [
    "#scaling the data\n",
    "\n",
    "#keeping the So variable which is a factor out of scaling. Also, keeping the dependent variable out.\n",
    "\n",
    "drops <- c(\"So\",\"Crime\")\n",
    "df <- data[ , !(names(data) %in% drops)]\n",
    "scaled_data <- scale(df)\n",
    "\n",
    "#binding the data altogether.\n",
    "scaled_data <- cbind(scaled_data, data[,drops])"
   ]
  },
  {
   "cell_type": "code",
   "execution_count": 4,
   "metadata": {},
   "outputs": [
    {
     "data": {
      "text/html": [
       "<table>\n",
       "<thead><tr><th scope=col>M</th><th scope=col>Ed</th><th scope=col>Po1</th><th scope=col>Po2</th><th scope=col>LF</th><th scope=col>M.F</th><th scope=col>Pop</th><th scope=col>NW</th><th scope=col>U1</th><th scope=col>U2</th><th scope=col>Wealth</th><th scope=col>Ineq</th><th scope=col>Prob</th><th scope=col>Time</th><th scope=col>So</th><th scope=col>Crime</th></tr></thead>\n",
       "<tbody>\n",
       "\t<tr><td> 0.9886930  </td><td>-1.3085099  </td><td>-0.9085105  </td><td>-0.8666988  </td><td>-1.2667456  </td><td>-1.12060499 </td><td>-0.09500679 </td><td> 1.943738564</td><td> 0.69510600 </td><td> 0.8313680  </td><td>-1.3616094  </td><td> 1.6793638  </td><td> 1.6497631  </td><td>-0.05599367 </td><td>1           </td><td> 791        </td></tr>\n",
       "\t<tr><td> 0.3521372  </td><td> 0.6580587  </td><td> 0.6056737  </td><td> 0.5280852  </td><td> 0.5396568  </td><td> 0.98341752 </td><td>-0.62033844 </td><td> 0.008483424</td><td> 0.02950365 </td><td> 0.2393332  </td><td> 0.3276683  </td><td> 0.0000000  </td><td>-0.7693365  </td><td>-0.18315796 </td><td>0           </td><td>1635        </td></tr>\n",
       "\t<tr><td> 0.2725678  </td><td>-1.4872888  </td><td>-1.3459415  </td><td>-1.2958632  </td><td>-0.6976051  </td><td>-0.47582390 </td><td>-0.48900552 </td><td> 1.146296747</td><td>-0.08143007 </td><td>-0.1158877  </td><td>-2.1492481  </td><td> 1.4036474  </td><td> 1.5969416  </td><td>-0.32416470 </td><td>1           </td><td> 578        </td></tr>\n",
       "\t<tr><td>-0.2048491  </td><td> 1.3731746  </td><td> 2.1535064  </td><td> 2.1732150  </td><td> 0.3911854  </td><td> 0.37257228 </td><td> 3.16204944 </td><td>-0.205464381</td><td> 0.36230482 </td><td> 0.5945541  </td><td> 1.5298536  </td><td>-0.6767585  </td><td>-1.3761895  </td><td> 0.46611085 </td><td>0           </td><td>1969        </td></tr>\n",
       "\t<tr><td> 0.1929983  </td><td> 1.3731746  </td><td> 0.8075649  </td><td> 0.7426673  </td><td> 0.7376187  </td><td> 0.06714965 </td><td>-0.48900552 </td><td>-0.691709391</td><td>-0.24783066 </td><td>-1.6551781  </td><td> 0.5453053  </td><td>-0.5013026  </td><td>-0.2503580  </td><td>-0.74759413 </td><td>0           </td><td>1234        </td></tr>\n",
       "\t<tr><td>-1.3983912  </td><td> 0.3898903  </td><td> 1.1104017  </td><td> 1.2433590  </td><td>-0.3511718  </td><td>-0.64550313 </td><td>-0.30513945 </td><td>-0.555560788</td><td>-0.63609870 </td><td>-0.5895155  </td><td> 1.6956723  </td><td>-1.7044289  </td><td>-0.5669349  </td><td>-0.78996812 </td><td>0           </td><td> 682        </td></tr>\n",
       "</tbody>\n",
       "</table>\n"
      ],
      "text/latex": [
       "\\begin{tabular}{r|llllllllllllllll}\n",
       " M & Ed & Po1 & Po2 & LF & M.F & Pop & NW & U1 & U2 & Wealth & Ineq & Prob & Time & So & Crime\\\\\n",
       "\\hline\n",
       "\t  0.9886930   & -1.3085099   & -0.9085105   & -0.8666988   & -1.2667456   & -1.12060499  & -0.09500679  &  1.943738564 &  0.69510600  &  0.8313680   & -1.3616094   &  1.6793638   &  1.6497631   & -0.05599367  & 1            &  791        \\\\\n",
       "\t  0.3521372   &  0.6580587   &  0.6056737   &  0.5280852   &  0.5396568   &  0.98341752  & -0.62033844  &  0.008483424 &  0.02950365  &  0.2393332   &  0.3276683   &  0.0000000   & -0.7693365   & -0.18315796  & 0            & 1635        \\\\\n",
       "\t  0.2725678   & -1.4872888   & -1.3459415   & -1.2958632   & -0.6976051   & -0.47582390  & -0.48900552  &  1.146296747 & -0.08143007  & -0.1158877   & -2.1492481   &  1.4036474   &  1.5969416   & -0.32416470  & 1            &  578        \\\\\n",
       "\t -0.2048491   &  1.3731746   &  2.1535064   &  2.1732150   &  0.3911854   &  0.37257228  &  3.16204944  & -0.205464381 &  0.36230482  &  0.5945541   &  1.5298536   & -0.6767585   & -1.3761895   &  0.46611085  & 0            & 1969        \\\\\n",
       "\t  0.1929983   &  1.3731746   &  0.8075649   &  0.7426673   &  0.7376187   &  0.06714965  & -0.48900552  & -0.691709391 & -0.24783066  & -1.6551781   &  0.5453053   & -0.5013026   & -0.2503580   & -0.74759413  & 0            & 1234        \\\\\n",
       "\t -1.3983912   &  0.3898903   &  1.1104017   &  1.2433590   & -0.3511718   & -0.64550313  & -0.30513945  & -0.555560788 & -0.63609870  & -0.5895155   &  1.6956723   & -1.7044289   & -0.5669349   & -0.78996812  & 0            &  682        \\\\\n",
       "\\end{tabular}\n"
      ],
      "text/markdown": [
       "\n",
       "M | Ed | Po1 | Po2 | LF | M.F | Pop | NW | U1 | U2 | Wealth | Ineq | Prob | Time | So | Crime | \n",
       "|---|---|---|---|---|---|\n",
       "|  0.9886930   | -1.3085099   | -0.9085105   | -0.8666988   | -1.2667456   | -1.12060499  | -0.09500679  |  1.943738564 |  0.69510600  |  0.8313680   | -1.3616094   |  1.6793638   |  1.6497631   | -0.05599367  | 1            |  791         | \n",
       "|  0.3521372   |  0.6580587   |  0.6056737   |  0.5280852   |  0.5396568   |  0.98341752  | -0.62033844  |  0.008483424 |  0.02950365  |  0.2393332   |  0.3276683   |  0.0000000   | -0.7693365   | -0.18315796  | 0            | 1635         | \n",
       "|  0.2725678   | -1.4872888   | -1.3459415   | -1.2958632   | -0.6976051   | -0.47582390  | -0.48900552  |  1.146296747 | -0.08143007  | -0.1158877   | -2.1492481   |  1.4036474   |  1.5969416   | -0.32416470  | 1            |  578         | \n",
       "| -0.2048491   |  1.3731746   |  2.1535064   |  2.1732150   |  0.3911854   |  0.37257228  |  3.16204944  | -0.205464381 |  0.36230482  |  0.5945541   |  1.5298536   | -0.6767585   | -1.3761895   |  0.46611085  | 0            | 1969         | \n",
       "|  0.1929983   |  1.3731746   |  0.8075649   |  0.7426673   |  0.7376187   |  0.06714965  | -0.48900552  | -0.691709391 | -0.24783066  | -1.6551781   |  0.5453053   | -0.5013026   | -0.2503580   | -0.74759413  | 0            | 1234         | \n",
       "| -1.3983912   |  0.3898903   |  1.1104017   |  1.2433590   | -0.3511718   | -0.64550313  | -0.30513945  | -0.555560788 | -0.63609870  | -0.5895155   |  1.6956723   | -1.7044289   | -0.5669349   | -0.78996812  | 0            |  682         | \n",
       "\n",
       "\n"
      ],
      "text/plain": [
       "  M          Ed         Po1        Po2        LF         M.F        \n",
       "1  0.9886930 -1.3085099 -0.9085105 -0.8666988 -1.2667456 -1.12060499\n",
       "2  0.3521372  0.6580587  0.6056737  0.5280852  0.5396568  0.98341752\n",
       "3  0.2725678 -1.4872888 -1.3459415 -1.2958632 -0.6976051 -0.47582390\n",
       "4 -0.2048491  1.3731746  2.1535064  2.1732150  0.3911854  0.37257228\n",
       "5  0.1929983  1.3731746  0.8075649  0.7426673  0.7376187  0.06714965\n",
       "6 -1.3983912  0.3898903  1.1104017  1.2433590 -0.3511718 -0.64550313\n",
       "  Pop         NW           U1          U2         Wealth     Ineq      \n",
       "1 -0.09500679  1.943738564  0.69510600  0.8313680 -1.3616094  1.6793638\n",
       "2 -0.62033844  0.008483424  0.02950365  0.2393332  0.3276683  0.0000000\n",
       "3 -0.48900552  1.146296747 -0.08143007 -0.1158877 -2.1492481  1.4036474\n",
       "4  3.16204944 -0.205464381  0.36230482  0.5945541  1.5298536 -0.6767585\n",
       "5 -0.48900552 -0.691709391 -0.24783066 -1.6551781  0.5453053 -0.5013026\n",
       "6 -0.30513945 -0.555560788 -0.63609870 -0.5895155  1.6956723 -1.7044289\n",
       "  Prob       Time        So Crime\n",
       "1  1.6497631 -0.05599367 1   791 \n",
       "2 -0.7693365 -0.18315796 0  1635 \n",
       "3  1.5969416 -0.32416470 1   578 \n",
       "4 -1.3761895  0.46611085 0  1969 \n",
       "5 -0.2503580 -0.74759413 0  1234 \n",
       "6 -0.5669349 -0.78996812 0   682 "
      ]
     },
     "metadata": {},
     "output_type": "display_data"
    }
   ],
   "source": [
    "head(scaled_data)"
   ]
  },
  {
   "cell_type": "code",
   "execution_count": 5,
   "metadata": {},
   "outputs": [
    {
     "name": "stderr",
     "output_type": "stream",
     "text": [
      "Loading required package: lattice\n",
      "Loading required package: ggplot2\n",
      "Loading required package: Matrix\n",
      "Loading required package: foreach\n",
      "Loaded glmnet 2.0-13\n",
      "\n"
     ]
    }
   ],
   "source": [
    "options(warn=-1)\n",
    "library(caret)\n",
    "library(leaps)\n",
    "library(MASS)\n",
    "library(glmnet)"
   ]
  },
  {
   "cell_type": "code",
   "execution_count": 6,
   "metadata": {},
   "outputs": [],
   "source": [
    "set.seed(1)"
   ]
  },
  {
   "cell_type": "markdown",
   "metadata": {},
   "source": [
    "References:\n",
    "\n",
    "http://www.sthda.com/english/articles/37-model-selection-essentials-in-r/154-stepwise-regression-essentials-in-r/"
   ]
  },
  {
   "cell_type": "code",
   "execution_count": 7,
   "metadata": {},
   "outputs": [],
   "source": [
    "#defining a control method to do repeated cv\n",
    "\n",
    "control <- trainControl(method = \"repeatedcv\", number = 5, repeats = 5)\n",
    "\n",
    "#here we use the train function from caret package. method = \"leapSeq\" is for stepwise regression.\n",
    "#tuneGrid = data.frame(nvmax = 1:15) means that it will try all the models with 1 features upto 15 features.\n",
    "#the best 1-variable model, the best 2-variables model, …, the best 15-variables model\n",
    "\n",
    "lm_step <- train(Crime ~., data = scaled_data, method = \"leapSeq\", \n",
    "                     tuneGrid = data.frame(nvmax = 1:15), trControl = control)"
   ]
  },
  {
   "cell_type": "code",
   "execution_count": 8,
   "metadata": {},
   "outputs": [
    {
     "data": {
      "text/html": [
       "<table>\n",
       "<thead><tr><th scope=col>nvmax</th><th scope=col>RMSE</th><th scope=col>Rsquared</th><th scope=col>MAE</th><th scope=col>RMSESD</th><th scope=col>RsquaredSD</th><th scope=col>MAESD</th></tr></thead>\n",
       "<tbody>\n",
       "\t<tr><td> 1       </td><td>282.9300 </td><td>0.4999792</td><td>226.2151 </td><td>70.67819 </td><td>0.2125575</td><td>53.74191 </td></tr>\n",
       "\t<tr><td> 2       </td><td>310.7000 </td><td>0.4334649</td><td>248.3198 </td><td>86.46990 </td><td>0.2741488</td><td>72.16826 </td></tr>\n",
       "\t<tr><td> 3       </td><td>273.1027 </td><td>0.5310749</td><td>214.0348 </td><td>74.52462 </td><td>0.2073685</td><td>61.93288 </td></tr>\n",
       "\t<tr><td> 4       </td><td>298.4097 </td><td>0.4655277</td><td>236.8706 </td><td>53.48436 </td><td>0.1921420</td><td>42.46384 </td></tr>\n",
       "\t<tr><td> 5       </td><td>289.2306 </td><td>0.4869785</td><td>233.2909 </td><td>62.55661 </td><td>0.2145011</td><td>56.34413 </td></tr>\n",
       "\t<tr><td> 6       </td><td>279.3289 </td><td>0.5446330</td><td>221.5333 </td><td>80.05025 </td><td>0.2078361</td><td>68.68278 </td></tr>\n",
       "\t<tr><td> 7       </td><td>286.6147 </td><td>0.5283167</td><td>224.7424 </td><td>71.09796 </td><td>0.1956827</td><td>64.51009 </td></tr>\n",
       "\t<tr><td> 8       </td><td>286.9273 </td><td>0.4869795</td><td>227.3073 </td><td>60.09801 </td><td>0.2087288</td><td>54.08324 </td></tr>\n",
       "\t<tr><td> 9       </td><td>299.6539 </td><td>0.4934172</td><td>231.2610 </td><td>63.50853 </td><td>0.1798948</td><td>59.63639 </td></tr>\n",
       "\t<tr><td>10       </td><td>292.4513 </td><td>0.5150836</td><td>228.5901 </td><td>66.06529 </td><td>0.1939786</td><td>55.64956 </td></tr>\n",
       "\t<tr><td>11       </td><td>297.3778 </td><td>0.4640345</td><td>231.5788 </td><td>60.65984 </td><td>0.1975678</td><td>57.45597 </td></tr>\n",
       "\t<tr><td>12       </td><td>285.4662 </td><td>0.5157689</td><td>224.6591 </td><td>60.03197 </td><td>0.2114072</td><td>57.48195 </td></tr>\n",
       "\t<tr><td>13       </td><td>282.2549 </td><td>0.5349635</td><td>222.1849 </td><td>61.77533 </td><td>0.2103352</td><td>53.76748 </td></tr>\n",
       "\t<tr><td>14       </td><td>286.1901 </td><td>0.5362130</td><td>224.7453 </td><td>64.94866 </td><td>0.1970353</td><td>57.80696 </td></tr>\n",
       "\t<tr><td>15       </td><td>292.0083 </td><td>0.5197076</td><td>229.6161 </td><td>61.32444 </td><td>0.2019892</td><td>56.76443 </td></tr>\n",
       "</tbody>\n",
       "</table>\n"
      ],
      "text/latex": [
       "\\begin{tabular}{r|lllllll}\n",
       " nvmax & RMSE & Rsquared & MAE & RMSESD & RsquaredSD & MAESD\\\\\n",
       "\\hline\n",
       "\t  1        & 282.9300  & 0.4999792 & 226.2151  & 70.67819  & 0.2125575 & 53.74191 \\\\\n",
       "\t  2        & 310.7000  & 0.4334649 & 248.3198  & 86.46990  & 0.2741488 & 72.16826 \\\\\n",
       "\t  3        & 273.1027  & 0.5310749 & 214.0348  & 74.52462  & 0.2073685 & 61.93288 \\\\\n",
       "\t  4        & 298.4097  & 0.4655277 & 236.8706  & 53.48436  & 0.1921420 & 42.46384 \\\\\n",
       "\t  5        & 289.2306  & 0.4869785 & 233.2909  & 62.55661  & 0.2145011 & 56.34413 \\\\\n",
       "\t  6        & 279.3289  & 0.5446330 & 221.5333  & 80.05025  & 0.2078361 & 68.68278 \\\\\n",
       "\t  7        & 286.6147  & 0.5283167 & 224.7424  & 71.09796  & 0.1956827 & 64.51009 \\\\\n",
       "\t  8        & 286.9273  & 0.4869795 & 227.3073  & 60.09801  & 0.2087288 & 54.08324 \\\\\n",
       "\t  9        & 299.6539  & 0.4934172 & 231.2610  & 63.50853  & 0.1798948 & 59.63639 \\\\\n",
       "\t 10        & 292.4513  & 0.5150836 & 228.5901  & 66.06529  & 0.1939786 & 55.64956 \\\\\n",
       "\t 11        & 297.3778  & 0.4640345 & 231.5788  & 60.65984  & 0.1975678 & 57.45597 \\\\\n",
       "\t 12        & 285.4662  & 0.5157689 & 224.6591  & 60.03197  & 0.2114072 & 57.48195 \\\\\n",
       "\t 13        & 282.2549  & 0.5349635 & 222.1849  & 61.77533  & 0.2103352 & 53.76748 \\\\\n",
       "\t 14        & 286.1901  & 0.5362130 & 224.7453  & 64.94866  & 0.1970353 & 57.80696 \\\\\n",
       "\t 15        & 292.0083  & 0.5197076 & 229.6161  & 61.32444  & 0.2019892 & 56.76443 \\\\\n",
       "\\end{tabular}\n"
      ],
      "text/markdown": [
       "\n",
       "nvmax | RMSE | Rsquared | MAE | RMSESD | RsquaredSD | MAESD | \n",
       "|---|---|---|---|---|---|---|---|---|---|---|---|---|---|---|\n",
       "|  1        | 282.9300  | 0.4999792 | 226.2151  | 70.67819  | 0.2125575 | 53.74191  | \n",
       "|  2        | 310.7000  | 0.4334649 | 248.3198  | 86.46990  | 0.2741488 | 72.16826  | \n",
       "|  3        | 273.1027  | 0.5310749 | 214.0348  | 74.52462  | 0.2073685 | 61.93288  | \n",
       "|  4        | 298.4097  | 0.4655277 | 236.8706  | 53.48436  | 0.1921420 | 42.46384  | \n",
       "|  5        | 289.2306  | 0.4869785 | 233.2909  | 62.55661  | 0.2145011 | 56.34413  | \n",
       "|  6        | 279.3289  | 0.5446330 | 221.5333  | 80.05025  | 0.2078361 | 68.68278  | \n",
       "|  7        | 286.6147  | 0.5283167 | 224.7424  | 71.09796  | 0.1956827 | 64.51009  | \n",
       "|  8        | 286.9273  | 0.4869795 | 227.3073  | 60.09801  | 0.2087288 | 54.08324  | \n",
       "|  9        | 299.6539  | 0.4934172 | 231.2610  | 63.50853  | 0.1798948 | 59.63639  | \n",
       "| 10        | 292.4513  | 0.5150836 | 228.5901  | 66.06529  | 0.1939786 | 55.64956  | \n",
       "| 11        | 297.3778  | 0.4640345 | 231.5788  | 60.65984  | 0.1975678 | 57.45597  | \n",
       "| 12        | 285.4662  | 0.5157689 | 224.6591  | 60.03197  | 0.2114072 | 57.48195  | \n",
       "| 13        | 282.2549  | 0.5349635 | 222.1849  | 61.77533  | 0.2103352 | 53.76748  | \n",
       "| 14        | 286.1901  | 0.5362130 | 224.7453  | 64.94866  | 0.1970353 | 57.80696  | \n",
       "| 15        | 292.0083  | 0.5197076 | 229.6161  | 61.32444  | 0.2019892 | 56.76443  | \n",
       "\n",
       "\n"
      ],
      "text/plain": [
       "   nvmax RMSE     Rsquared  MAE      RMSESD   RsquaredSD MAESD   \n",
       "1   1    282.9300 0.4999792 226.2151 70.67819 0.2125575  53.74191\n",
       "2   2    310.7000 0.4334649 248.3198 86.46990 0.2741488  72.16826\n",
       "3   3    273.1027 0.5310749 214.0348 74.52462 0.2073685  61.93288\n",
       "4   4    298.4097 0.4655277 236.8706 53.48436 0.1921420  42.46384\n",
       "5   5    289.2306 0.4869785 233.2909 62.55661 0.2145011  56.34413\n",
       "6   6    279.3289 0.5446330 221.5333 80.05025 0.2078361  68.68278\n",
       "7   7    286.6147 0.5283167 224.7424 71.09796 0.1956827  64.51009\n",
       "8   8    286.9273 0.4869795 227.3073 60.09801 0.2087288  54.08324\n",
       "9   9    299.6539 0.4934172 231.2610 63.50853 0.1798948  59.63639\n",
       "10 10    292.4513 0.5150836 228.5901 66.06529 0.1939786  55.64956\n",
       "11 11    297.3778 0.4640345 231.5788 60.65984 0.1975678  57.45597\n",
       "12 12    285.4662 0.5157689 224.6591 60.03197 0.2114072  57.48195\n",
       "13 13    282.2549 0.5349635 222.1849 61.77533 0.2103352  53.76748\n",
       "14 14    286.1901 0.5362130 224.7453 64.94866 0.1970353  57.80696\n",
       "15 15    292.0083 0.5197076 229.6161 61.32444 0.2019892  56.76443"
      ]
     },
     "metadata": {},
     "output_type": "display_data"
    }
   ],
   "source": [
    "#here we print the stats for all nvmax best models\n",
    "\n",
    "lm_step$results"
   ]
  },
  {
   "cell_type": "code",
   "execution_count": 9,
   "metadata": {},
   "outputs": [
    {
     "data": {
      "text/html": [
       "<table>\n",
       "<thead><tr><th></th><th scope=col>nvmax</th></tr></thead>\n",
       "<tbody>\n",
       "\t<tr><th scope=row>3</th><td>3</td></tr>\n",
       "</tbody>\n",
       "</table>\n"
      ],
      "text/latex": [
       "\\begin{tabular}{r|l}\n",
       "  & nvmax\\\\\n",
       "\\hline\n",
       "\t3 & 3\\\\\n",
       "\\end{tabular}\n"
      ],
      "text/markdown": [
       "\n",
       "| <!--/--> | nvmax | \n",
       "|---|\n",
       "| 3 | 3 | \n",
       "\n",
       "\n"
      ],
      "text/plain": [
       "  nvmax\n",
       "3 3    "
      ]
     },
     "metadata": {},
     "output_type": "display_data"
    }
   ],
   "source": [
    "#it can be seen that the best model is one with 3 features. Also, good point to note\n",
    "# different seed values give different nvmax. When I set seed = 42, I got nvmax = 6 \n",
    "lm_step$bestTune"
   ]
  },
  {
   "cell_type": "code",
   "execution_count": 10,
   "metadata": {},
   "outputs": [
    {
     "data": {
      "text/plain": [
       "Subset selection object\n",
       "15 Variables  (and intercept)\n",
       "       Forced in Forced out\n",
       "M          FALSE      FALSE\n",
       "Ed         FALSE      FALSE\n",
       "Po1        FALSE      FALSE\n",
       "Po2        FALSE      FALSE\n",
       "LF         FALSE      FALSE\n",
       "M.F        FALSE      FALSE\n",
       "Pop        FALSE      FALSE\n",
       "NW         FALSE      FALSE\n",
       "U1         FALSE      FALSE\n",
       "U2         FALSE      FALSE\n",
       "Wealth     FALSE      FALSE\n",
       "Ineq       FALSE      FALSE\n",
       "Prob       FALSE      FALSE\n",
       "Time       FALSE      FALSE\n",
       "So         FALSE      FALSE\n",
       "1 subsets of each size up to 3\n",
       "Selection Algorithm: 'sequential replacement'\n",
       "         M   Ed  Po1 Po2 LF  M.F Pop NW  U1  U2  Wealth Ineq Prob Time So \n",
       "1  ( 1 ) \" \" \" \" \"*\" \" \" \" \" \" \" \" \" \" \" \" \" \" \" \" \"    \" \"  \" \"  \" \"  \" \"\n",
       "2  ( 1 ) \" \" \" \" \"*\" \" \" \" \" \" \" \" \" \" \" \" \" \" \" \" \"    \"*\"  \" \"  \" \"  \" \"\n",
       "3  ( 1 ) \" \" \"*\" \"*\" \" \" \" \" \" \" \" \" \" \" \" \" \" \" \" \"    \"*\"  \" \"  \" \"  \" \""
      ]
     },
     "metadata": {},
     "output_type": "display_data"
    }
   ],
   "source": [
    "#printing the summary to know the 3 features\n",
    "\n",
    "summary(lm_step$finalModel)"
   ]
  },
  {
   "cell_type": "code",
   "execution_count": 11,
   "metadata": {},
   "outputs": [],
   "source": [
    "# * indicates that the features was included in the model.\n",
    "# so the features selected are Ed, Po1, Ineq\n",
    "#Using those features to fit the linear regression model"
   ]
  },
  {
   "cell_type": "code",
   "execution_count": 12,
   "metadata": {},
   "outputs": [
    {
     "data": {
      "text/plain": [
       "\n",
       "Call:\n",
       "lm(formula = Crime ~ Ed + Po1 + Ineq, data = scaled_data)\n",
       "\n",
       "Residuals:\n",
       "    Min      1Q  Median      3Q     Max \n",
       "-590.30 -102.06   -1.73  129.16  511.60 \n",
       "\n",
       "Coefficients:\n",
       "            Estimate Std. Error t value Pr(>|t|)    \n",
       "(Intercept)   905.09      33.74  26.825  < 2e-16 ***\n",
       "Ed            176.61      53.32   3.312  0.00188 ** \n",
       "Po1           369.45      43.94   8.408 1.26e-10 ***\n",
       "Ineq          299.45      60.15   4.978 1.09e-05 ***\n",
       "---\n",
       "Signif. codes:  0 ‘***’ 0.001 ‘**’ 0.01 ‘*’ 0.05 ‘.’ 0.1 ‘ ’ 1\n",
       "\n",
       "Residual standard error: 231.3 on 43 degrees of freedom\n",
       "Multiple R-squared:  0.6656,\tAdjusted R-squared:  0.6423 \n",
       "F-statistic: 28.53 on 3 and 43 DF,  p-value: 2.59e-10\n"
      ]
     },
     "metadata": {},
     "output_type": "display_data"
    }
   ],
   "source": [
    "#fitting simple linear regression model on those 3 features\n",
    "\n",
    "mod <- lm(Crime ~ Ed + Po1 + Ineq, data = scaled_data)\n",
    "summary(mod)"
   ]
  },
  {
   "cell_type": "code",
   "execution_count": 13,
   "metadata": {},
   "outputs": [],
   "source": [
    "#all the coefficients are significant as per the p-value."
   ]
  },
  {
   "cell_type": "code",
   "execution_count": 14,
   "metadata": {},
   "outputs": [],
   "source": [
    "#now lets perform leave out one cross validation and get the R squared."
   ]
  },
  {
   "cell_type": "code",
   "execution_count": 15,
   "metadata": {},
   "outputs": [],
   "source": [
    "test <- numeric()\n",
    "for (i in 1:nrow(scaled_data)){\n",
    "    model <- lm(Crime ~ Ed + Po1 +Ineq, data = scaled_data[-i,])\n",
    "    test <- cbind(test, predict(model, newdata = scaled_data[i,]))\n",
    "}"
   ]
  },
  {
   "cell_type": "code",
   "execution_count": 16,
   "metadata": {},
   "outputs": [],
   "source": [
    "#function to calculate r-squared\n",
    "\n",
    "compute_rsquared <- function(y_hat, y){\n",
    "SSR <- sum((y_hat - y)^2)\n",
    "SST <- sum((y - mean(y))^2)\n",
    "rsquared <- 1 - SSR/SST\n",
    "return (rsquared)\n",
    "}"
   ]
  },
  {
   "cell_type": "code",
   "execution_count": 17,
   "metadata": {},
   "outputs": [
    {
     "data": {
      "text/html": [
       "0.574751286403875"
      ],
      "text/latex": [
       "0.574751286403875"
      ],
      "text/markdown": [
       "0.574751286403875"
      ],
      "text/plain": [
       "[1] 0.5747513"
      ]
     },
     "metadata": {},
     "output_type": "display_data"
    }
   ],
   "source": [
    "compute_rsquared(test, scaled_data$Crime)"
   ]
  },
  {
   "cell_type": "code",
   "execution_count": 18,
   "metadata": {},
   "outputs": [],
   "source": [
    "#Using just three features we were able to get Rsquared of 0.57. Please note -- adding more features will\n",
    "#definitely increase Rsquared. But we need to strike a balance between simplicity and generalization.\n",
    "#i was able to get a pretty simple model using just three features."
   ]
  },
  {
   "cell_type": "code",
   "execution_count": 19,
   "metadata": {},
   "outputs": [
    {
     "data": {
      "text/plain": [
       "\n",
       "Call:\n",
       "lm(formula = Crime ~ M + Ed + Po1 + M.F + U1 + U2 + Ineq + Prob, \n",
       "    data = scaled_data)\n",
       "\n",
       "Residuals:\n",
       "    Min      1Q  Median      3Q     Max \n",
       "-444.70 -111.07    3.03  122.15  483.30 \n",
       "\n",
       "Coefficients:\n",
       "            Estimate Std. Error t value Pr(>|t|)    \n",
       "(Intercept)   905.09      28.52  31.731  < 2e-16 ***\n",
       "M             117.28      42.10   2.786  0.00828 ** \n",
       "Ed            201.50      59.02   3.414  0.00153 ** \n",
       "Po1           305.07      46.14   6.613 8.26e-08 ***\n",
       "M.F            65.83      40.08   1.642  0.10874    \n",
       "U1           -109.73      60.20  -1.823  0.07622 .  \n",
       "U2            158.22      61.22   2.585  0.01371 *  \n",
       "Ineq          244.70      55.69   4.394 8.63e-05 ***\n",
       "Prob          -86.31      33.89  -2.547  0.01505 *  \n",
       "---\n",
       "Signif. codes:  0 ‘***’ 0.001 ‘**’ 0.01 ‘*’ 0.05 ‘.’ 0.1 ‘ ’ 1\n",
       "\n",
       "Residual standard error: 195.5 on 38 degrees of freedom\n",
       "Multiple R-squared:  0.7888,\tAdjusted R-squared:  0.7444 \n",
       "F-statistic: 17.74 on 8 and 38 DF,  p-value: 1.159e-10\n"
      ]
     },
     "metadata": {},
     "output_type": "display_data"
    }
   ],
   "source": [
    "full.model <- lm(Crime ~., data = scaled_data)\n",
    "# Stepwise regression model\n",
    "step.model <- stepAIC(full.model, direction = \"both\", \n",
    "                      trace = FALSE)\n",
    "summary(step.model)"
   ]
  },
  {
   "cell_type": "code",
   "execution_count": 20,
   "metadata": {},
   "outputs": [],
   "source": [
    "#So the above model selected 8 features and was able to get a rsquared of 0.7888\n",
    "#and adjusted r-squared of 0.7444. "
   ]
  },
  {
   "cell_type": "code",
   "execution_count": 21,
   "metadata": {},
   "outputs": [],
   "source": [
    "#using the above model... lets cross validate\n",
    "test1 <- numeric()\n",
    "for (i in 1:nrow(scaled_data)){\n",
    "    model <- lm(Crime ~ M + Ed + Po1 + M.F + U1 + U2 + Ineq + Prob, data = scaled_data[-i,])\n",
    "    test1 <- cbind(test1, predict(model, newdata = scaled_data[i,]))\n",
    "}"
   ]
  },
  {
   "cell_type": "code",
   "execution_count": 22,
   "metadata": {},
   "outputs": [
    {
     "data": {
      "text/html": [
       "0.667620969502124"
      ],
      "text/latex": [
       "0.667620969502124"
      ],
      "text/markdown": [
       "0.667620969502124"
      ],
      "text/plain": [
       "[1] 0.667621"
      ]
     },
     "metadata": {},
     "output_type": "display_data"
    }
   ],
   "source": [
    "compute_rsquared(test1, scaled_data$Crime)"
   ]
  },
  {
   "cell_type": "code",
   "execution_count": 23,
   "metadata": {},
   "outputs": [],
   "source": [
    "#But it can be seen that M.F and U1 are not that siginificant \n",
    "#as per p-value so lets take that out.\n",
    "\n",
    "#using the above model... lets cross validate\n",
    "test2 <- numeric()\n",
    "for (i in 1:nrow(scaled_data)){\n",
    "    model <- lm(Crime ~ M + Ed + Po1 + U2 + Ineq + Prob, data = scaled_data[-i,])\n",
    "    test2 <- cbind(test2, predict(model, newdata = scaled_data[i,]))\n",
    "}"
   ]
  },
  {
   "cell_type": "code",
   "execution_count": 24,
   "metadata": {},
   "outputs": [
    {
     "data": {
      "text/html": [
       "0.666163842867471"
      ],
      "text/latex": [
       "0.666163842867471"
      ],
      "text/markdown": [
       "0.666163842867471"
      ],
      "text/plain": [
       "[1] 0.6661638"
      ]
     },
     "metadata": {},
     "output_type": "display_data"
    }
   ],
   "source": [
    "compute_rsquared(test2, scaled_data$Crime)"
   ]
  },
  {
   "cell_type": "code",
   "execution_count": 25,
   "metadata": {},
   "outputs": [],
   "source": [
    "#So it can be seen that, we were able to get about the same r-squared by omitting M.F and U1. \n",
    "#Occam's razor -- the simpler the better.\n",
    "#Hence we would go with the latter one with just 6 features."
   ]
  },
  {
   "cell_type": "markdown",
   "metadata": {},
   "source": [
    "Now it is quite a judgement call here. We have two models one with 3 features and other with 6 features. The final selection totally depends upon whether we want simplicity or generalization."
   ]
  },
  {
   "cell_type": "markdown",
   "metadata": {},
   "source": [
    "# Lasso Regression"
   ]
  },
  {
   "cell_type": "code",
   "execution_count": 32,
   "metadata": {},
   "outputs": [],
   "source": [
    "lasso_model = cv.glmnet(x = as.matrix(scaled_data[,-16]),\n",
    "                        y = as.matrix(scaled_data$Crime),\n",
    "                        alpha = 1, nfolds = 5,\n",
    "                        type.measure = \"mse\", family = \"gaussian\", standardize = F)"
   ]
  },
  {
   "cell_type": "code",
   "execution_count": 33,
   "metadata": {},
   "outputs": [
    {
     "data": {
      "text/plain": [
       "$lambda\n",
       " [1] 260.2814612 237.1587736 216.0902418 196.8933803 179.4019150 163.4643433\n",
       " [7] 148.9426216 135.7109696 123.6547811 112.6696312 102.6603717  93.5403072\n",
       "[13]  85.2304441  77.6588063  70.7598120  64.4737054  58.7460391  53.5272029\n",
       "[19]  48.7719937  44.4392242  40.4913660  36.8942246  33.6166434  30.6302335\n",
       "[25]  27.9091279  25.4297579  23.1706483  21.1122318  19.2366793  17.5277457\n",
       "[31]  15.9706291  14.5518424  13.2590969  12.0811952  11.0079352  10.0300205\n",
       "[37]   9.1389812   8.3270993   7.5873427   6.9133041   6.2991452   5.7395465\n",
       "[43]   5.2296610   4.7650723   4.3417565   3.9560468   3.6046025   3.2843795\n",
       "[49]   2.9926043   2.7267496   2.4845127   2.2637954   2.0626861   1.8794427\n",
       "[55]   1.7124782   1.5603464   1.4217295   1.2954270   1.1803448   1.0754862\n",
       "[61]   0.9799430   0.8928876   0.8135659   0.7412909   0.6754367   0.6154328\n",
       "[67]   0.5607594   0.5109431   0.4655523   0.4241939   0.3865097   0.3521733\n",
       "[73]   0.3208872   0.2923804   0.2664061\n",
       "\n",
       "$cvm\n",
       " [1] 145826.80 142162.52 136720.36 128986.49 122615.74 117372.22 113030.77\n",
       " [8] 109190.33 105894.32 103045.85 100968.76  99444.38  98316.42  97599.12\n",
       "[15]  96893.45  95717.79  93560.54  90268.30  87180.21  84856.90  82851.73\n",
       "[22]  81247.48  79741.87  78108.00  75845.12  73630.84  71379.19  68963.85\n",
       "[29]  67177.64  65867.71  64735.74  63927.27  63312.68  62864.51  62936.45\n",
       "[36]  63170.13  63362.86  63288.38  63349.75  63406.67  63468.32  63593.58\n",
       "[43]  63757.60  63946.58  64161.48  64412.40  64726.41  65256.90  65993.48\n",
       "[50]  66685.82  67208.62  67754.40  68262.80  68796.78  69325.67  69780.42\n",
       "[57]  70227.05  70660.63  71069.55  71459.47  71815.03  72174.90  72513.98\n",
       "[64]  72842.40  73135.52  73405.11  73658.93  73885.81  74099.19  74296.06\n",
       "[71]  74478.23  74629.45  74772.41  74904.31  75025.78\n",
       "\n",
       "$cvsd\n",
       " [1] 30833.26 32189.43 31448.90 28670.62 26213.00 24057.37 22171.84 20419.36\n",
       " [9] 18899.04 17610.39 16619.38 15841.90 15263.54 14922.87 14824.25 14835.13\n",
       "[17] 14712.28 14635.46 14689.81 14856.27 15011.28 15155.07 15400.04 15622.36\n",
       "[25] 15237.15 14875.81 14449.95 14082.18 13791.42 13556.77 13392.32 13228.64\n",
       "[33] 13080.19 12988.30 13105.46 13257.97 13303.73 13298.18 13271.08 13253.50\n",
       "[41] 13247.52 13236.88 13226.06 13213.93 13199.09 13177.26 13133.24 13091.20\n",
       "[49] 13113.98 13142.55 13054.33 13032.83 12990.46 12968.60 12939.69 12939.30\n",
       "[57] 12945.52 12942.86 12949.56 12954.77 12961.84 12981.55 13016.57 13065.06\n",
       "[65] 13109.91 13151.54 13193.91 13239.68 13279.49 13315.02 13351.15 13378.89\n",
       "[73] 13403.56 13429.20 13451.80\n",
       "\n",
       "$cvup\n",
       " [1] 176660.07 174351.95 168169.26 157657.11 148828.74 141429.58 135202.61\n",
       " [8] 129609.69 124793.36 120656.24 117588.13 115286.28 113579.96 112522.00\n",
       "[15] 111717.70 110552.92 108272.82 104903.75 101870.02  99713.16  97863.01\n",
       "[22]  96402.55  95141.91  93730.37  91082.27  88506.66  85829.14  83046.04\n",
       "[29]  80969.06  79424.48  78128.06  77155.91  76392.87  75852.80  76041.91\n",
       "[36]  76428.10  76666.59  76586.56  76620.83  76660.17  76715.85  76830.46\n",
       "[43]  76983.66  77160.50  77360.57  77589.66  77859.64  78348.10  79107.46\n",
       "[50]  79828.37  80262.95  80787.23  81253.26  81765.39  82265.35  82719.72\n",
       "[57]  83172.57  83603.48  84019.12  84414.24  84776.86  85156.45  85530.54\n",
       "[64]  85907.46  86245.43  86556.66  86852.84  87125.49  87378.68  87611.07\n",
       "[71]  87829.37  88008.34  88175.97  88333.50  88477.58\n",
       "\n",
       "$cvlo\n",
       " [1] 114993.54 109973.09 105271.47 100315.88  96402.73  93314.85  90858.93\n",
       " [8]  88770.97  86995.29  85435.46  84349.38  83602.48  83052.89  82676.25\n",
       "[15]  82069.20  80882.65  78848.26  75632.84  72490.40  70000.63  67840.44\n",
       "[22]  66092.41  64341.83  62485.64  60607.98  58755.03  56929.25  54881.67\n",
       "[29]  53386.23  52310.94  51343.41  50698.63  50232.49  49876.21  49830.99\n",
       "[36]  49912.16  50059.13  49990.20  50078.68  50153.18  50220.80  50356.70\n",
       "[43]  50531.55  50732.65  50962.39  51235.14  51593.17  52165.69  52879.50\n",
       "[50]  53543.27  54154.29  54721.57  55272.34  55828.18  56385.98  56841.13\n",
       "[57]  57281.53  57717.77  58119.99  58504.70  58853.19  59193.35  59497.41\n",
       "[64]  59777.33  60025.60  60253.57  60465.01  60646.12  60819.70  60981.04\n",
       "[71]  61127.08  61250.57  61368.85  61475.11  61573.99\n",
       "\n",
       "$nzero\n",
       " s0  s1  s2  s3  s4  s5  s6  s7  s8  s9 s10 s11 s12 s13 s14 s15 s16 s17 s18 s19 \n",
       "  0   1   1   1   1   1   1   1   1   1   1   1   1   1   3   4   4   5   5   5 \n",
       "s20 s21 s22 s23 s24 s25 s26 s27 s28 s29 s30 s31 s32 s33 s34 s35 s36 s37 s38 s39 \n",
       "  5   5   5   6   7   8   8   8   8   8   8   9   9   9   9  10  10  10  11  11 \n",
       "s40 s41 s42 s43 s44 s45 s46 s47 s48 s49 s50 s51 s52 s53 s54 s55 s56 s57 s58 s59 \n",
       " 11  11  11  11  11  11  11  12  12  12  13  13  13  14  14  14  14  14  15  15 \n",
       "s60 s61 s62 s63 s64 s65 s66 s67 s68 s69 s70 s71 s72 s73 s74 \n",
       " 15  15  15  15  15  15  15  15  15  15  15  15  14  14  14 \n",
       "\n",
       "$name\n",
       "                 mse \n",
       "\"Mean-Squared Error\" \n",
       "\n",
       "$glmnet.fit\n",
       "\n",
       "Call:  glmnet(x = as.matrix(scaled_data[, -16]), y = as.matrix(scaled_data$Crime),      alpha = 1, family = \"gaussian\", standardize = F) \n",
       "\n",
       "      Df    %Dev    Lambda\n",
       " [1,]  0 0.00000 260.30000\n",
       " [2,]  1 0.08027 237.20000\n",
       " [3,]  1 0.14690 216.10000\n",
       " [4,]  1 0.20220 196.90000\n",
       " [5,]  1 0.24820 179.40000\n",
       " [6,]  1 0.28630 163.50000\n",
       " [7,]  1 0.31800 148.90000\n",
       " [8,]  1 0.34430 135.70000\n",
       " [9,]  1 0.36610 123.70000\n",
       "[10,]  1 0.38420 112.70000\n",
       "[11,]  1 0.39920 102.70000\n",
       "[12,]  1 0.41170  93.54000\n",
       "[13,]  1 0.42210  85.23000\n",
       "[14,]  1 0.43070  77.66000\n",
       "[15,]  3 0.44240  70.76000\n",
       "[16,]  4 0.45870  64.47000\n",
       "[17,]  4 0.48700  58.75000\n",
       "[18,]  5 0.52490  53.53000\n",
       "[19,]  5 0.55650  48.77000\n",
       "[20,]  5 0.58260  44.44000\n",
       "[21,]  5 0.60430  40.49000\n",
       "[22,]  5 0.62240  36.89000\n",
       "[23,]  5 0.63730  33.62000\n",
       "[24,]  6 0.64980  30.63000\n",
       "[25,]  7 0.66700  27.91000\n",
       "[26,]  8 0.68230  25.43000\n",
       "[27,]  8 0.69750  23.17000\n",
       "[28,]  8 0.71000  21.11000\n",
       "[29,]  8 0.72040  19.24000\n",
       "[30,]  8 0.72900  17.53000\n",
       "[31,]  8 0.73610  15.97000\n",
       "[32,]  9 0.74290  14.55000\n",
       "[33,]  9 0.75080  13.26000\n",
       "[34,]  9 0.75730  12.08000\n",
       "[35,]  9 0.76270  11.01000\n",
       "[36,] 10 0.76790  10.03000\n",
       "[37,] 10 0.77220   9.13900\n",
       "[38,] 10 0.77580   8.32700\n",
       "[39,] 11 0.77930   7.58700\n",
       "[40,] 11 0.78230   6.91300\n",
       "[41,] 11 0.78480   6.29900\n",
       "[42,] 11 0.78680   5.74000\n",
       "[43,] 11 0.78850   5.23000\n",
       "[44,] 11 0.79000   4.76500\n",
       "[45,] 11 0.79110   4.34200\n",
       "[46,] 11 0.79210   3.95600\n",
       "[47,] 11 0.79290   3.60500\n",
       "[48,] 12 0.79360   3.28400\n",
       "[49,] 12 0.79420   2.99300\n",
       "[50,] 12 0.79470   2.72700\n",
       "[51,] 13 0.79510   2.48500\n",
       "[52,] 13 0.79550   2.26400\n",
       "[53,] 13 0.79580   2.06300\n",
       "[54,] 14 0.79610   1.87900\n",
       "[55,] 14 0.79630   1.71200\n",
       "[56,] 14 0.79650   1.56000\n",
       "[57,] 14 0.79670   1.42200\n",
       "[58,] 14 0.79690   1.29500\n",
       "[59,] 15 0.79710   1.18000\n",
       "[60,] 15 0.79800   1.07500\n",
       "[61,] 15 0.79880   0.97990\n",
       "[62,] 15 0.79950   0.89290\n",
       "[63,] 15 0.80010   0.81360\n",
       "[64,] 15 0.80060   0.74130\n",
       "[65,] 15 0.80100   0.67540\n",
       "[66,] 15 0.80130   0.61540\n",
       "[67,] 15 0.80160   0.56080\n",
       "[68,] 15 0.80180   0.51090\n",
       "[69,] 15 0.80200   0.46560\n",
       "[70,] 15 0.80220   0.42420\n",
       "[71,] 15 0.80230   0.38650\n",
       "[72,] 15 0.80240   0.35220\n",
       "[73,] 14 0.80250   0.32090\n",
       "[74,] 14 0.80260   0.29240\n",
       "[75,] 14 0.80270   0.26640\n",
       "[76,] 14 0.80270   0.24270\n",
       "[77,] 14 0.80280   0.22120\n",
       "[78,] 14 0.80280   0.20150\n",
       "[79,] 14 0.80290   0.18360\n",
       "[80,] 14 0.80290   0.16730\n",
       "[81,] 14 0.80290   0.15240\n",
       "[82,] 14 0.80290   0.13890\n",
       "[83,] 14 0.80300   0.12660\n",
       "[84,] 14 0.80300   0.11530\n",
       "[85,] 14 0.80300   0.10510\n",
       "[86,] 14 0.80300   0.09574\n",
       "[87,] 14 0.80300   0.08724\n",
       "[88,] 14 0.80300   0.07949\n",
       "\n",
       "$lambda.min\n",
       "[1] 12.0812\n",
       "\n",
       "$lambda.1se\n",
       "[1] 27.90913\n",
       "\n",
       "attr(,\"class\")\n",
       "[1] \"cv.glmnet\""
      ]
     },
     "metadata": {},
     "output_type": "display_data"
    }
   ],
   "source": [
    "lasso_model"
   ]
  },
  {
   "cell_type": "code",
   "execution_count": 34,
   "metadata": {},
   "outputs": [
    {
     "data": {
      "text/plain": [
       "16 x 1 sparse Matrix of class \"dgCMatrix\"\n",
       "                    1\n",
       "(Intercept) 905.08511\n",
       "M            85.09006\n",
       "Ed          115.31161\n",
       "Po1         309.89409\n",
       "Po2           .      \n",
       "LF            .      \n",
       "M.F          50.46511\n",
       "Pop           .      \n",
       "NW           10.57842\n",
       "U1          -21.05244\n",
       "U2           52.84583\n",
       "Wealth        .      \n",
       "Ineq        182.41508\n",
       "Prob        -75.82115\n",
       "Time          .      \n",
       "So            .      "
      ]
     },
     "metadata": {},
     "output_type": "display_data"
    }
   ],
   "source": [
    "coef(lasso_model, s = lasso_model$lambda.min)"
   ]
  },
  {
   "cell_type": "code",
   "execution_count": 35,
   "metadata": {},
   "outputs": [
    {
     "data": {
      "image/png": "[encoded data removed]",
      "text/plain": [
       "plot without title"
      ]
     },
     "metadata": {},
     "output_type": "display_data"
    }
   ],
   "source": [
    "plot(lasso_model)"
   ]
  },
  {
   "cell_type": "code",
   "execution_count": 36,
   "metadata": {},
   "outputs": [],
   "source": [
    "#fitting a model with the above 9 variables. These variables are same to stepAIC\n",
    "\n",
    "lm_lasso <- lm(Crime ~ M + Ed + Po1 + M.F + NW + U1 + U2 + Ineq + Prob, data = scaled_data)"
   ]
  },
  {
   "cell_type": "code",
   "execution_count": 37,
   "metadata": {},
   "outputs": [
    {
     "data": {
      "text/plain": [
       "\n",
       "Call:\n",
       "lm(formula = Crime ~ M + Ed + Po1 + M.F + NW + U1 + U2 + Ineq + \n",
       "    Prob, data = scaled_data)\n",
       "\n",
       "Residuals:\n",
       "   Min     1Q Median     3Q    Max \n",
       "-439.2 -102.2   -6.3  124.1  476.6 \n",
       "\n",
       "Coefficients:\n",
       "            Estimate Std. Error t value Pr(>|t|)    \n",
       "(Intercept)   905.09      28.87  31.352  < 2e-16 ***\n",
       "M             111.23      46.83   2.375 0.022820 *  \n",
       "Ed            203.63      60.12   3.387 0.001687 ** \n",
       "Po1           297.89      52.08   5.719 1.51e-06 ***\n",
       "M.F            68.74      41.63   1.651 0.107134    \n",
       "NW             16.55      53.15   0.311 0.757222    \n",
       "U1           -109.46      60.94  -1.796 0.080609 .  \n",
       "U2            156.94      62.09   2.528 0.015889 *  \n",
       "Ineq          236.70      61.95   3.821 0.000492 ***\n",
       "Prob          -89.99      36.28  -2.481 0.017791 *  \n",
       "---\n",
       "Signif. codes:  0 ‘***’ 0.001 ‘**’ 0.01 ‘*’ 0.05 ‘.’ 0.1 ‘ ’ 1\n",
       "\n",
       "Residual standard error: 197.9 on 37 degrees of freedom\n",
       "Multiple R-squared:  0.7894,\tAdjusted R-squared:  0.7381 \n",
       "F-statistic: 15.41 on 9 and 37 DF,  p-value: 4.881e-10\n"
      ]
     },
     "metadata": {},
     "output_type": "display_data"
    }
   ],
   "source": [
    "summary(lm_lasso)"
   ]
  },
  {
   "cell_type": "markdown",
   "metadata": {},
   "source": [
    "Point to note -- different value of seeds gives different results. One more point to note, the significant variables from the above model are same as the variables selected from step AIC. So I will not rerun the lm model on those 6 variables."
   ]
  },
  {
   "cell_type": "markdown",
   "metadata": {},
   "source": [
    "# Elastic Net"
   ]
  },
  {
   "cell_type": "code",
   "execution_count": 102,
   "metadata": {},
   "outputs": [],
   "source": [
    "#we loop over different values of alpha. In each loop we select, minimum cross validation error and lambda.min\n",
    "\n",
    "mse_list <- numeric()\n",
    "find_alpha <- function(num, scaled_data){\n",
    "    alpha <- num\n",
    "    elastic_net <- cv.glmnet(x=as.matrix(scaled_data[,-16]),\n",
    "                        y=as.matrix(scaled_data[,16]),\n",
    "                        alpha = alpha,\n",
    "                        nfolds=5,\n",
    "                        type.measure=\"mse\",\n",
    "                        family=\"gaussian\",\n",
    "                        standardize=FALSE)\n",
    "    \n",
    "        mse_list <<- cbind(mse_list, c(alpha, min(elastic_net$cvm),elastic_net$lambda.min))    \n",
    "}"
   ]
  },
  {
   "cell_type": "code",
   "execution_count": 103,
   "metadata": {},
   "outputs": [],
   "source": [
    "#looping over different values of alpha\n",
    "\n",
    "for (i in seq(.01,1,by = .01)){find_alpha(i,scaled_data)}"
   ]
  },
  {
   "cell_type": "code",
   "execution_count": 106,
   "metadata": {},
   "outputs": [],
   "source": [
    "minIndex <- which.min(mse_list[2,])"
   ]
  },
  {
   "cell_type": "code",
   "execution_count": 107,
   "metadata": {},
   "outputs": [
    {
     "data": {
      "text/html": [
       "50367.424492338"
      ],
      "text/latex": [
       "50367.424492338"
      ],
      "text/markdown": [
       "50367.424492338"
      ],
      "text/plain": [
       "[1] 50367.42"
      ]
     },
     "metadata": {},
     "output_type": "display_data"
    }
   ],
   "source": [
    "mse_list[2,minIndex]"
   ]
  },
  {
   "cell_type": "code",
   "execution_count": 108,
   "metadata": {},
   "outputs": [
    {
     "data": {
      "text/html": [
       "0.89"
      ],
      "text/latex": [
       "0.89"
      ],
      "text/markdown": [
       "0.89"
      ],
      "text/plain": [
       "[1] 0.89"
      ]
     },
     "metadata": {},
     "output_type": "display_data"
    }
   ],
   "source": [
    "mse_list[1, minIndex]"
   ]
  },
  {
   "cell_type": "code",
   "execution_count": 109,
   "metadata": {},
   "outputs": [],
   "source": [
    "#Using alpha = 0.89 and running the elastic net\n",
    "\n",
    "elastic_net_final <- cv.glmnet(x=as.matrix(scaled_data[,-16]),\n",
    "                        y=as.matrix(scaled_data[,16]),\n",
    "                        alpha = 0.89,\n",
    "                        nfolds=5,\n",
    "                        type.measure=\"mse\",\n",
    "                        family=\"gaussian\",\n",
    "                        standardize=FALSE)"
   ]
  },
  {
   "cell_type": "code",
   "execution_count": 110,
   "metadata": {},
   "outputs": [
    {
     "data": {
      "text/plain": [
       "16 x 1 sparse Matrix of class \"dgCMatrix\"\n",
       "                     1\n",
       "(Intercept) 901.772626\n",
       "M           110.002785\n",
       "Ed          186.022954\n",
       "Po1         292.041940\n",
       "Po2           .       \n",
       "LF           -2.821441\n",
       "M.F          51.181343\n",
       "Pop         -25.993778\n",
       "NW           21.045777\n",
       "U1          -85.025620\n",
       "U2          131.958964\n",
       "Wealth       72.742142\n",
       "Ineq        272.634500\n",
       "Prob        -91.904515\n",
       "Time         -3.396470\n",
       "So            9.730411"
      ]
     },
     "metadata": {},
     "output_type": "display_data"
    }
   ],
   "source": [
    "coef(elastic_net_final, s = elastic_net_final$lambda.min)"
   ]
  },
  {
   "cell_type": "code",
   "execution_count": 111,
   "metadata": {},
   "outputs": [],
   "source": [
    "#So elastic_net selects 14 variables. Let's rerun lm using those features."
   ]
  },
  {
   "cell_type": "code",
   "execution_count": 113,
   "metadata": {},
   "outputs": [],
   "source": [
    "lm_elastic <- lm(Crime ~ ., data = scaled_data[, -4])"
   ]
  },
  {
   "cell_type": "code",
   "execution_count": 114,
   "metadata": {},
   "outputs": [
    {
     "data": {
      "text/plain": [
       "\n",
       "Call:\n",
       "lm(formula = Crime ~ ., data = scaled_data[, -4])\n",
       "\n",
       "Residuals:\n",
       "    Min      1Q  Median      3Q     Max \n",
       "-442.55 -116.46    8.86  118.26  473.49 \n",
       "\n",
       "Coefficients:\n",
       "            Estimate Std. Error t value Pr(>|t|)    \n",
       "(Intercept)  903.155     58.889  15.336 2.66e-16 ***\n",
       "M            112.934     52.244   2.162 0.038232 *  \n",
       "Ed           198.350     68.044   2.915 0.006445 ** \n",
       "Po1          286.864     71.091   4.035 0.000317 ***\n",
       "LF           -11.321     56.896  -0.199 0.843538    \n",
       "M.F           53.684     59.798   0.898 0.376026    \n",
       "Pop          -29.833     48.950  -0.609 0.546523    \n",
       "NW            25.149     63.619   0.395 0.695239    \n",
       "U1           -97.649     75.332  -1.296 0.204164    \n",
       "U2           143.034     69.378   2.062 0.047441 *  \n",
       "Wealth        87.540     99.662   0.878 0.386292    \n",
       "Ineq         290.076     90.023   3.222 0.002921 ** \n",
       "Prob         -97.432     49.655  -1.962 0.058484 .  \n",
       "Time          -7.991     47.425  -0.168 0.867251    \n",
       "So             5.669    148.100   0.038 0.969705    \n",
       "---\n",
       "Signif. codes:  0 ‘***’ 0.001 ‘**’ 0.01 ‘*’ 0.05 ‘.’ 0.1 ‘ ’ 1\n",
       "\n",
       "Residual standard error: 208.6 on 32 degrees of freedom\n",
       "Multiple R-squared:  0.7976,\tAdjusted R-squared:  0.709 \n",
       "F-statistic: 9.006 on 14 and 32 DF,  p-value: 1.673e-07\n"
      ]
     },
     "metadata": {},
     "output_type": "display_data"
    }
   ],
   "source": [
    "summary(lm_elastic)"
   ]
  },
  {
   "cell_type": "code",
   "execution_count": 115,
   "metadata": {},
   "outputs": [],
   "source": [
    "#Again it can be seen that the siginificant variables are M, Ed, Po1, U2, Ineq, Prob. However lets perform\n",
    "#cv using those 14 variables."
   ]
  },
  {
   "cell_type": "code",
   "execution_count": 116,
   "metadata": {},
   "outputs": [],
   "source": [
    "test4 <- numeric()\n",
    "for (i in 1:nrow(scaled_data)){\n",
    "    model <- lm(Crime ~ ., data = scaled_data[-i,-4])\n",
    "    test4 <- cbind(test4, predict(model, newdata = scaled_data[i,-4]))\n",
    "}"
   ]
  },
  {
   "cell_type": "code",
   "execution_count": 117,
   "metadata": {},
   "outputs": [
    {
     "data": {
      "text/html": [
       "0.493682047286474"
      ],
      "text/latex": [
       "0.493682047286474"
      ],
      "text/markdown": [
       "0.493682047286474"
      ],
      "text/plain": [
       "[1] 0.493682"
      ]
     },
     "metadata": {},
     "output_type": "display_data"
    }
   ],
   "source": [
    "compute_rsquared(test4, scaled_data$Crime)"
   ]
  },
  {
   "cell_type": "code",
   "execution_count": 118,
   "metadata": {},
   "outputs": [],
   "source": [
    "#it can be seen that using those 14 variables we got a huge drop in r_square = 0.49"
   ]
  },
  {
   "cell_type": "markdown",
   "metadata": {},
   "source": [
    "We saw that all models agreed on the final 6 variables - M, Ed, Po1, U2, Ineq, Prob. Also, I was able to get a very simple model with just 3 features which had decent performance considering that we have 3 features."
   ]
  }
 ],
 "metadata": {
  "kernelspec": {
   "display_name": "R",
   "language": "R",
   "name": "ir"
  },
  "language_info": {
   "codemirror_mode": "r",
   "file_extension": ".r",
   "mimetype": "text/x-r-source",
   "name": "R",
   "pygments_lexer": "r",
   "version": "3.4.2"
  }
 },
 "nbformat": 4,
 "nbformat_minor": 2
}
